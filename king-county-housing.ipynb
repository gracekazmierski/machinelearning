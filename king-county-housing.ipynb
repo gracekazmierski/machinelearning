{
  "cells": [
    {
      "cell_type": "markdown",
      "metadata": {
        "id": "view-in-github",
        "colab_type": "text"
      },
      "source": [
        "<a href=\"https://colab.research.google.com/github/gracekazmierski/machinelearning/blob/main/king-county-housing.ipynb\" target=\"_parent\"><img src=\"https://colab.research.google.com/assets/colab-badge.svg\" alt=\"Open In Colab\"/></a>"
      ]
    },
    {
      "cell_type": "code",
      "execution_count": null,
      "metadata": {
        "id": "OoOQP3uyLT_l"
      },
      "outputs": [],
      "source": [
        "import pandas as pd\n",
        "import numpy as np\n",
        "import seaborn as sns\n",
        "import matplotlib.pyplot as plt\n",
        "from sklearn.model_selection import train_test_split, RandomizedSearchCV\n",
        "from sklearn.model_selection import cross_val_score\n",
        "from sklearn.preprocessing import MinMaxScaler, OneHotEncoder\n",
        "from sklearn.compose import ColumnTransformer\n",
        "from sklearn.pipeline import Pipeline\n",
        "from sklearn.metrics import mean_squared_error, mean_absolute_error, r2_score\n",
        "from scipy.stats import uniform, randint, loguniform\n",
        "from xgboost import XGBRegressor\n",
        "import requests\n",
        "from sklearn.model_selection import GridSearchCV\n",
        "import pickle"
      ]
    },
    {
      "cell_type": "code",
      "execution_count": null,
      "metadata": {
        "id": "zPhf8b7x1u_0",
        "colab": {
          "base_uri": "https://localhost:8080/",
          "height": 256
        },
        "outputId": "422aa551-c337-45ee-e0d6-79dcd480e07e"
      },
      "outputs": [
        {
          "output_type": "execute_result",
          "data": {
            "text/plain": [
              "           id             date  bedrooms  bathrooms  sqft_living  sqft_lot  \\\n",
              "0  1565930130  20141104T000000         4       3.25         3760      4675   \n",
              "1  3279000420  20150115T000000         3       1.75         1460      7800   \n",
              "2   194000575  20141014T000000         4       1.00         1340      5800   \n",
              "3  2115510160  20141208T000000         3       1.75         1440      8050   \n",
              "4  7522500005  20140815T000000         2       1.50         1780      4750   \n",
              "\n",
              "   floors  waterfront  view  condition  ...  sqft_above  sqft_basement  \\\n",
              "0     2.0           0     0          3  ...        2740           1020   \n",
              "1     1.0           0     0          2  ...        1040            420   \n",
              "2     1.5           0     2          3  ...        1340              0   \n",
              "3     1.0           0     0          3  ...        1440              0   \n",
              "4     1.0           0     0          4  ...        1080            700   \n",
              "\n",
              "   yr_built  yr_renovated  zipcode      lat     long  sqft_living15  \\\n",
              "0      2007             0    98038  47.3862 -122.048           3280   \n",
              "1      1979             0    98023  47.3035 -122.382           1310   \n",
              "2      1914             0    98116  47.5658 -122.389           1900   \n",
              "3      1985             0    98023  47.3187 -122.390           1790   \n",
              "4      1947             0    98117  47.6859 -122.395           1690   \n",
              "\n",
              "   sqft_lot15     price  \n",
              "0        4033  429900.0  \n",
              "1        7865  233000.0  \n",
              "2        5800  455000.0  \n",
              "3        7488  258950.0  \n",
              "4        5962  555000.0  \n",
              "\n",
              "[5 rows x 21 columns]"
            ],
            "text/html": [
              "\n",
              "  <div id=\"df-92a32ed0-75f9-4eff-a07c-7cc8c8b718df\" class=\"colab-df-container\">\n",
              "    <div>\n",
              "<style scoped>\n",
              "    .dataframe tbody tr th:only-of-type {\n",
              "        vertical-align: middle;\n",
              "    }\n",
              "\n",
              "    .dataframe tbody tr th {\n",
              "        vertical-align: top;\n",
              "    }\n",
              "\n",
              "    .dataframe thead th {\n",
              "        text-align: right;\n",
              "    }\n",
              "</style>\n",
              "<table border=\"1\" class=\"dataframe\">\n",
              "  <thead>\n",
              "    <tr style=\"text-align: right;\">\n",
              "      <th></th>\n",
              "      <th>id</th>\n",
              "      <th>date</th>\n",
              "      <th>bedrooms</th>\n",
              "      <th>bathrooms</th>\n",
              "      <th>sqft_living</th>\n",
              "      <th>sqft_lot</th>\n",
              "      <th>floors</th>\n",
              "      <th>waterfront</th>\n",
              "      <th>view</th>\n",
              "      <th>condition</th>\n",
              "      <th>...</th>\n",
              "      <th>sqft_above</th>\n",
              "      <th>sqft_basement</th>\n",
              "      <th>yr_built</th>\n",
              "      <th>yr_renovated</th>\n",
              "      <th>zipcode</th>\n",
              "      <th>lat</th>\n",
              "      <th>long</th>\n",
              "      <th>sqft_living15</th>\n",
              "      <th>sqft_lot15</th>\n",
              "      <th>price</th>\n",
              "    </tr>\n",
              "  </thead>\n",
              "  <tbody>\n",
              "    <tr>\n",
              "      <th>0</th>\n",
              "      <td>1565930130</td>\n",
              "      <td>20141104T000000</td>\n",
              "      <td>4</td>\n",
              "      <td>3.25</td>\n",
              "      <td>3760</td>\n",
              "      <td>4675</td>\n",
              "      <td>2.0</td>\n",
              "      <td>0</td>\n",
              "      <td>0</td>\n",
              "      <td>3</td>\n",
              "      <td>...</td>\n",
              "      <td>2740</td>\n",
              "      <td>1020</td>\n",
              "      <td>2007</td>\n",
              "      <td>0</td>\n",
              "      <td>98038</td>\n",
              "      <td>47.3862</td>\n",
              "      <td>-122.048</td>\n",
              "      <td>3280</td>\n",
              "      <td>4033</td>\n",
              "      <td>429900.0</td>\n",
              "    </tr>\n",
              "    <tr>\n",
              "      <th>1</th>\n",
              "      <td>3279000420</td>\n",
              "      <td>20150115T000000</td>\n",
              "      <td>3</td>\n",
              "      <td>1.75</td>\n",
              "      <td>1460</td>\n",
              "      <td>7800</td>\n",
              "      <td>1.0</td>\n",
              "      <td>0</td>\n",
              "      <td>0</td>\n",
              "      <td>2</td>\n",
              "      <td>...</td>\n",
              "      <td>1040</td>\n",
              "      <td>420</td>\n",
              "      <td>1979</td>\n",
              "      <td>0</td>\n",
              "      <td>98023</td>\n",
              "      <td>47.3035</td>\n",
              "      <td>-122.382</td>\n",
              "      <td>1310</td>\n",
              "      <td>7865</td>\n",
              "      <td>233000.0</td>\n",
              "    </tr>\n",
              "    <tr>\n",
              "      <th>2</th>\n",
              "      <td>194000575</td>\n",
              "      <td>20141014T000000</td>\n",
              "      <td>4</td>\n",
              "      <td>1.00</td>\n",
              "      <td>1340</td>\n",
              "      <td>5800</td>\n",
              "      <td>1.5</td>\n",
              "      <td>0</td>\n",
              "      <td>2</td>\n",
              "      <td>3</td>\n",
              "      <td>...</td>\n",
              "      <td>1340</td>\n",
              "      <td>0</td>\n",
              "      <td>1914</td>\n",
              "      <td>0</td>\n",
              "      <td>98116</td>\n",
              "      <td>47.5658</td>\n",
              "      <td>-122.389</td>\n",
              "      <td>1900</td>\n",
              "      <td>5800</td>\n",
              "      <td>455000.0</td>\n",
              "    </tr>\n",
              "    <tr>\n",
              "      <th>3</th>\n",
              "      <td>2115510160</td>\n",
              "      <td>20141208T000000</td>\n",
              "      <td>3</td>\n",
              "      <td>1.75</td>\n",
              "      <td>1440</td>\n",
              "      <td>8050</td>\n",
              "      <td>1.0</td>\n",
              "      <td>0</td>\n",
              "      <td>0</td>\n",
              "      <td>3</td>\n",
              "      <td>...</td>\n",
              "      <td>1440</td>\n",
              "      <td>0</td>\n",
              "      <td>1985</td>\n",
              "      <td>0</td>\n",
              "      <td>98023</td>\n",
              "      <td>47.3187</td>\n",
              "      <td>-122.390</td>\n",
              "      <td>1790</td>\n",
              "      <td>7488</td>\n",
              "      <td>258950.0</td>\n",
              "    </tr>\n",
              "    <tr>\n",
              "      <th>4</th>\n",
              "      <td>7522500005</td>\n",
              "      <td>20140815T000000</td>\n",
              "      <td>2</td>\n",
              "      <td>1.50</td>\n",
              "      <td>1780</td>\n",
              "      <td>4750</td>\n",
              "      <td>1.0</td>\n",
              "      <td>0</td>\n",
              "      <td>0</td>\n",
              "      <td>4</td>\n",
              "      <td>...</td>\n",
              "      <td>1080</td>\n",
              "      <td>700</td>\n",
              "      <td>1947</td>\n",
              "      <td>0</td>\n",
              "      <td>98117</td>\n",
              "      <td>47.6859</td>\n",
              "      <td>-122.395</td>\n",
              "      <td>1690</td>\n",
              "      <td>5962</td>\n",
              "      <td>555000.0</td>\n",
              "    </tr>\n",
              "  </tbody>\n",
              "</table>\n",
              "<p>5 rows × 21 columns</p>\n",
              "</div>\n",
              "    <div class=\"colab-df-buttons\">\n",
              "\n",
              "  <div class=\"colab-df-container\">\n",
              "    <button class=\"colab-df-convert\" onclick=\"convertToInteractive('df-92a32ed0-75f9-4eff-a07c-7cc8c8b718df')\"\n",
              "            title=\"Convert this dataframe to an interactive table.\"\n",
              "            style=\"display:none;\">\n",
              "\n",
              "  <svg xmlns=\"http://www.w3.org/2000/svg\" height=\"24px\" viewBox=\"0 -960 960 960\">\n",
              "    <path d=\"M120-120v-720h720v720H120Zm60-500h600v-160H180v160Zm220 220h160v-160H400v160Zm0 220h160v-160H400v160ZM180-400h160v-160H180v160Zm440 0h160v-160H620v160ZM180-180h160v-160H180v160Zm440 0h160v-160H620v160Z\"/>\n",
              "  </svg>\n",
              "    </button>\n",
              "\n",
              "  <style>\n",
              "    .colab-df-container {\n",
              "      display:flex;\n",
              "      gap: 12px;\n",
              "    }\n",
              "\n",
              "    .colab-df-convert {\n",
              "      background-color: #E8F0FE;\n",
              "      border: none;\n",
              "      border-radius: 50%;\n",
              "      cursor: pointer;\n",
              "      display: none;\n",
              "      fill: #1967D2;\n",
              "      height: 32px;\n",
              "      padding: 0 0 0 0;\n",
              "      width: 32px;\n",
              "    }\n",
              "\n",
              "    .colab-df-convert:hover {\n",
              "      background-color: #E2EBFA;\n",
              "      box-shadow: 0px 1px 2px rgba(60, 64, 67, 0.3), 0px 1px 3px 1px rgba(60, 64, 67, 0.15);\n",
              "      fill: #174EA6;\n",
              "    }\n",
              "\n",
              "    .colab-df-buttons div {\n",
              "      margin-bottom: 4px;\n",
              "    }\n",
              "\n",
              "    [theme=dark] .colab-df-convert {\n",
              "      background-color: #3B4455;\n",
              "      fill: #D2E3FC;\n",
              "    }\n",
              "\n",
              "    [theme=dark] .colab-df-convert:hover {\n",
              "      background-color: #434B5C;\n",
              "      box-shadow: 0px 1px 3px 1px rgba(0, 0, 0, 0.15);\n",
              "      filter: drop-shadow(0px 1px 2px rgba(0, 0, 0, 0.3));\n",
              "      fill: #FFFFFF;\n",
              "    }\n",
              "  </style>\n",
              "\n",
              "    <script>\n",
              "      const buttonEl =\n",
              "        document.querySelector('#df-92a32ed0-75f9-4eff-a07c-7cc8c8b718df button.colab-df-convert');\n",
              "      buttonEl.style.display =\n",
              "        google.colab.kernel.accessAllowed ? 'block' : 'none';\n",
              "\n",
              "      async function convertToInteractive(key) {\n",
              "        const element = document.querySelector('#df-92a32ed0-75f9-4eff-a07c-7cc8c8b718df');\n",
              "        const dataTable =\n",
              "          await google.colab.kernel.invokeFunction('convertToInteractive',\n",
              "                                                    [key], {});\n",
              "        if (!dataTable) return;\n",
              "\n",
              "        const docLinkHtml = 'Like what you see? Visit the ' +\n",
              "          '<a target=\"_blank\" href=https://colab.research.google.com/notebooks/data_table.ipynb>data table notebook</a>'\n",
              "          + ' to learn more about interactive tables.';\n",
              "        element.innerHTML = '';\n",
              "        dataTable['output_type'] = 'display_data';\n",
              "        await google.colab.output.renderOutput(dataTable, element);\n",
              "        const docLink = document.createElement('div');\n",
              "        docLink.innerHTML = docLinkHtml;\n",
              "        element.appendChild(docLink);\n",
              "      }\n",
              "    </script>\n",
              "  </div>\n",
              "\n",
              "\n",
              "    <div id=\"df-14082179-8e57-40c6-9937-56bf125bcfd7\">\n",
              "      <button class=\"colab-df-quickchart\" onclick=\"quickchart('df-14082179-8e57-40c6-9937-56bf125bcfd7')\"\n",
              "                title=\"Suggest charts\"\n",
              "                style=\"display:none;\">\n",
              "\n",
              "<svg xmlns=\"http://www.w3.org/2000/svg\" height=\"24px\"viewBox=\"0 0 24 24\"\n",
              "     width=\"24px\">\n",
              "    <g>\n",
              "        <path d=\"M19 3H5c-1.1 0-2 .9-2 2v14c0 1.1.9 2 2 2h14c1.1 0 2-.9 2-2V5c0-1.1-.9-2-2-2zM9 17H7v-7h2v7zm4 0h-2V7h2v10zm4 0h-2v-4h2v4z\"/>\n",
              "    </g>\n",
              "</svg>\n",
              "      </button>\n",
              "\n",
              "<style>\n",
              "  .colab-df-quickchart {\n",
              "      --bg-color: #E8F0FE;\n",
              "      --fill-color: #1967D2;\n",
              "      --hover-bg-color: #E2EBFA;\n",
              "      --hover-fill-color: #174EA6;\n",
              "      --disabled-fill-color: #AAA;\n",
              "      --disabled-bg-color: #DDD;\n",
              "  }\n",
              "\n",
              "  [theme=dark] .colab-df-quickchart {\n",
              "      --bg-color: #3B4455;\n",
              "      --fill-color: #D2E3FC;\n",
              "      --hover-bg-color: #434B5C;\n",
              "      --hover-fill-color: #FFFFFF;\n",
              "      --disabled-bg-color: #3B4455;\n",
              "      --disabled-fill-color: #666;\n",
              "  }\n",
              "\n",
              "  .colab-df-quickchart {\n",
              "    background-color: var(--bg-color);\n",
              "    border: none;\n",
              "    border-radius: 50%;\n",
              "    cursor: pointer;\n",
              "    display: none;\n",
              "    fill: var(--fill-color);\n",
              "    height: 32px;\n",
              "    padding: 0;\n",
              "    width: 32px;\n",
              "  }\n",
              "\n",
              "  .colab-df-quickchart:hover {\n",
              "    background-color: var(--hover-bg-color);\n",
              "    box-shadow: 0 1px 2px rgba(60, 64, 67, 0.3), 0 1px 3px 1px rgba(60, 64, 67, 0.15);\n",
              "    fill: var(--button-hover-fill-color);\n",
              "  }\n",
              "\n",
              "  .colab-df-quickchart-complete:disabled,\n",
              "  .colab-df-quickchart-complete:disabled:hover {\n",
              "    background-color: var(--disabled-bg-color);\n",
              "    fill: var(--disabled-fill-color);\n",
              "    box-shadow: none;\n",
              "  }\n",
              "\n",
              "  .colab-df-spinner {\n",
              "    border: 2px solid var(--fill-color);\n",
              "    border-color: transparent;\n",
              "    border-bottom-color: var(--fill-color);\n",
              "    animation:\n",
              "      spin 1s steps(1) infinite;\n",
              "  }\n",
              "\n",
              "  @keyframes spin {\n",
              "    0% {\n",
              "      border-color: transparent;\n",
              "      border-bottom-color: var(--fill-color);\n",
              "      border-left-color: var(--fill-color);\n",
              "    }\n",
              "    20% {\n",
              "      border-color: transparent;\n",
              "      border-left-color: var(--fill-color);\n",
              "      border-top-color: var(--fill-color);\n",
              "    }\n",
              "    30% {\n",
              "      border-color: transparent;\n",
              "      border-left-color: var(--fill-color);\n",
              "      border-top-color: var(--fill-color);\n",
              "      border-right-color: var(--fill-color);\n",
              "    }\n",
              "    40% {\n",
              "      border-color: transparent;\n",
              "      border-right-color: var(--fill-color);\n",
              "      border-top-color: var(--fill-color);\n",
              "    }\n",
              "    60% {\n",
              "      border-color: transparent;\n",
              "      border-right-color: var(--fill-color);\n",
              "    }\n",
              "    80% {\n",
              "      border-color: transparent;\n",
              "      border-right-color: var(--fill-color);\n",
              "      border-bottom-color: var(--fill-color);\n",
              "    }\n",
              "    90% {\n",
              "      border-color: transparent;\n",
              "      border-bottom-color: var(--fill-color);\n",
              "    }\n",
              "  }\n",
              "</style>\n",
              "\n",
              "      <script>\n",
              "        async function quickchart(key) {\n",
              "          const quickchartButtonEl =\n",
              "            document.querySelector('#' + key + ' button');\n",
              "          quickchartButtonEl.disabled = true;  // To prevent multiple clicks.\n",
              "          quickchartButtonEl.classList.add('colab-df-spinner');\n",
              "          try {\n",
              "            const charts = await google.colab.kernel.invokeFunction(\n",
              "                'suggestCharts', [key], {});\n",
              "          } catch (error) {\n",
              "            console.error('Error during call to suggestCharts:', error);\n",
              "          }\n",
              "          quickchartButtonEl.classList.remove('colab-df-spinner');\n",
              "          quickchartButtonEl.classList.add('colab-df-quickchart-complete');\n",
              "        }\n",
              "        (() => {\n",
              "          let quickchartButtonEl =\n",
              "            document.querySelector('#df-14082179-8e57-40c6-9937-56bf125bcfd7 button');\n",
              "          quickchartButtonEl.style.display =\n",
              "            google.colab.kernel.accessAllowed ? 'block' : 'none';\n",
              "        })();\n",
              "      </script>\n",
              "    </div>\n",
              "\n",
              "    </div>\n",
              "  </div>\n"
            ],
            "application/vnd.google.colaboratory.intrinsic+json": {
              "type": "dataframe",
              "variable_name": "df"
            }
          },
          "metadata": {},
          "execution_count": 92
        }
      ],
      "source": [
        "url = \"https://raw.githubusercontent.com/byui-cse/cse450-course/master/data/housing.csv\"\n",
        "api_key = \"8a2e276d791143c0ad61eb26ae0999a28ecd9e34\"\n",
        "api_url = f'https://api.census.gov/data/2022/acs/acs5?get=NAME,B19013_001E&for=zip%20code%20tabulation%20area:*&key={api_key}'\n",
        "df = pd.read_csv(url)\n",
        "df.head()"
      ]
    },
    {
      "cell_type": "code",
      "source": [
        "df.loc[df['id'] == 2402100895, 'bedrooms'] = 3"
      ],
      "metadata": {
        "id": "CX_sLJ5uBKl0"
      },
      "execution_count": null,
      "outputs": []
    },
    {
      "cell_type": "code",
      "source": [
        "df.shape"
      ],
      "metadata": {
        "colab": {
          "base_uri": "https://localhost:8080/"
        },
        "id": "5PdakaoMnJGH",
        "outputId": "6ead8cbc-ad97-4f31-df5f-36243efd57c8"
      },
      "execution_count": null,
      "outputs": [
        {
          "output_type": "execute_result",
          "data": {
            "text/plain": [
              "(20000, 21)"
            ]
          },
          "metadata": {},
          "execution_count": 94
        }
      ]
    },
    {
      "cell_type": "code",
      "source": [
        "df['view'].value_counts()"
      ],
      "metadata": {
        "colab": {
          "base_uri": "https://localhost:8080/",
          "height": 272
        },
        "id": "3d8Whjd4BhN3",
        "outputId": "e9631d85-0fd9-4141-e682-18510ae50b46"
      },
      "execution_count": null,
      "outputs": [
        {
          "output_type": "execute_result",
          "data": {
            "text/plain": [
              "view\n",
              "0    18030\n",
              "2      889\n",
              "3      471\n",
              "1      311\n",
              "4      299\n",
              "Name: count, dtype: int64"
            ],
            "text/html": [
              "<div>\n",
              "<style scoped>\n",
              "    .dataframe tbody tr th:only-of-type {\n",
              "        vertical-align: middle;\n",
              "    }\n",
              "\n",
              "    .dataframe tbody tr th {\n",
              "        vertical-align: top;\n",
              "    }\n",
              "\n",
              "    .dataframe thead th {\n",
              "        text-align: right;\n",
              "    }\n",
              "</style>\n",
              "<table border=\"1\" class=\"dataframe\">\n",
              "  <thead>\n",
              "    <tr style=\"text-align: right;\">\n",
              "      <th></th>\n",
              "      <th>count</th>\n",
              "    </tr>\n",
              "    <tr>\n",
              "      <th>view</th>\n",
              "      <th></th>\n",
              "    </tr>\n",
              "  </thead>\n",
              "  <tbody>\n",
              "    <tr>\n",
              "      <th>0</th>\n",
              "      <td>18030</td>\n",
              "    </tr>\n",
              "    <tr>\n",
              "      <th>2</th>\n",
              "      <td>889</td>\n",
              "    </tr>\n",
              "    <tr>\n",
              "      <th>3</th>\n",
              "      <td>471</td>\n",
              "    </tr>\n",
              "    <tr>\n",
              "      <th>1</th>\n",
              "      <td>311</td>\n",
              "    </tr>\n",
              "    <tr>\n",
              "      <th>4</th>\n",
              "      <td>299</td>\n",
              "    </tr>\n",
              "  </tbody>\n",
              "</table>\n",
              "</div><br><label><b>dtype:</b> int64</label>"
            ]
          },
          "metadata": {},
          "execution_count": 95
        }
      ]
    },
    {
      "cell_type": "code",
      "source": [
        "import seaborn as sns\n",
        "import matplotlib.pyplot as plt\n",
        "\n",
        "sns.boxplot(x=df['price'])\n",
        "plt.title('Distribution of Sale Prices')\n",
        "plt.xlabel('Sale Price')\n",
        "plt.show()"
      ],
      "metadata": {
        "colab": {
          "base_uri": "https://localhost:8080/",
          "height": 472
        },
        "id": "Qiqk5Z5O_qd6",
        "outputId": "4a2f834c-4c9a-423e-da48-99bcfafcd222"
      },
      "execution_count": null,
      "outputs": [
        {
          "output_type": "display_data",
          "data": {
            "text/plain": [
              "<Figure size 640x480 with 1 Axes>"
            ],
            "image/png": "[encoded data removed]"
          },
          "metadata": {}
        }
      ]
    },
    {
      "cell_type": "code",
      "execution_count": null,
      "metadata": {
        "id": "ey7DWAKUH2_B"
      },
      "outputs": [],
      "source": [
        "def handle_age_at_sale(df, method='adjust'):\n",
        "    # This function processes a DataFrame to calculate the 'age_at_sale' for properties.\n",
        "    # It addresses potential data quality issues where 'yr_built' might be later than 'sale_year'.\n",
        "\n",
        "    if method == 'nan':\n",
        "        # Option 1: Replace invalid ages with NaN (Not a Number).\n",
        "        df['age_at_sale'] = df['sale_year'] - df['yr_built']\n",
        "        # Calculate initial age.\n",
        "        df.loc[df['age_at_sale'] < 0, 'age_at_sale'] = np.nan\n",
        "        # Use .loc[] for label-based indexing to select rows where 'age_at_sale' is negative\n",
        "        # and assign np.nan to those specific cells.\n",
        "\n",
        "    elif method == 'zero':\n",
        "        # Option 2: Replace invalid ages with 0.\n",
        "        # This addresses the issue of \"pre-built\" homes\n",
        "        df['age_at_sale'] = df['sale_year'] - df['yr_built']\n",
        "        # Calculate initial age.\n",
        "        df.loc[df['age_at_sale'] < 0, 'age_at_sale'] = 0\n",
        "        # Conditionally set negative ages to 0 using .loc[].\n",
        "\n",
        "    elif method == 'adjust':\n",
        "        # Option 3: Adjust 'yr_built' to 'sale_year' for invalid entries.\n",
        "        df.loc[df['yr_built'] > df['sale_year'], 'yr_built'] = df['sale_year']\n",
        "        # Here, we're directly modifying the 'yr_built' column for rows where it's\n",
        "        # logically impossible. This impacts the original 'yr_built' data.\n",
        "        df['age_at_sale'] = df['sale_year'] - df['yr_built']\n",
        "\n",
        "    else:\n",
        "        raise ValueError(\"Method must be 'nan', 'zero', or 'adjust'\")\n",
        "    return df"
      ]
    },
    {
      "cell_type": "code",
      "execution_count": null,
      "metadata": {
        "id": "oF4F3vVNLUo7"
      },
      "outputs": [],
      "source": [
        "df['date'] = pd.to_datetime(df['date'].str.replace('T000000', ''), errors='coerce') # Conver  'date' string column to datetime objects & removing the time suffix\n",
        "df['sale_year'] = df['date'].dt.year # Extract year from dt object.\n",
        "df['sale_month'] = df['date'].dt.month # Extract month from dt object.\n",
        "df['sale_day'] = df['date'].dt.dayofweek # Extract day of the week (Monday=0, Sunday=6)\n",
        "df['renovated'] = df['yr_renovated'].apply(lambda x: 1 if x > 0 else 0) # Create binary feature where 1 = rennovated and 0 = not rennovated\n",
        "df['low_grade'] = (df['grade'] <= 3).astype(int) # Binary feature where 1 = low grade and 0 = not low grade\n",
        "df['high_grade'] = (df['grade'] >= 11).astype(int) # Binary feature where 1 = high grade and 0 = not high grade\n",
        "df['sqft_living_x_grade'] = df['sqft_living'] * df['grade'] # Interaction feature made by multiplying living square footage by property grade.\n",
        "df['waterfront_x_sqft_living'] = df['waterfront'] * df['sqft_living'] # Interaction feature for waterfront properties scaled by living square footage.\n",
        "df['has_basement'] = np.where(df['sqft_basement'] > 0, 1, 0) # Binary feature where 1 = has a basement and 0 = no basement"
      ]
    },
    {
      "cell_type": "code",
      "execution_count": null,
      "metadata": {
        "colab": {
          "base_uri": "https://localhost:8080/"
        },
        "id": "jYodVYecH5Ea",
        "outputId": "b00bf576-19f6-4cbe-adcf-b6a8b9b3647a"
      },
      "outputs": [
        {
          "output_type": "stream",
          "name": "stdout",
          "text": [
            "Empty DataFrame\n",
            "Columns: [date, yr_built, sale_year]\n",
            "Index: []\n"
          ]
        }
      ],
      "source": [
        "df = handle_age_at_sale(df, method='adjust') # Call 'age_at_sale' and handle data inconsistencies, using the 'adjust' method.\n",
        "print(df[df['yr_built'] > df['sale_year']][['date', 'yr_built', 'sale_year']]) # Check for inconsistencies"
      ]
    },
    {
      "cell_type": "code",
      "execution_count": null,
      "metadata": {
        "colab": {
          "base_uri": "https://localhost:8080/"
        },
        "id": "QTf_8sZPLcuh",
        "outputId": "818cd8d8-39c5-4932-dc27-cba0eb38ce19"
      },
      "outputs": [
        {
          "output_type": "stream",
          "name": "stdout",
          "text": [
            "  zipcode  median_income\n",
            "0   98038         135304\n",
            "1   98023          98057\n",
            "2   98116         129924\n",
            "3   98023          98057\n",
            "4   98117         166029\n"
          ]
        }
      ],
      "source": [
        "df['zipcode'] = df['zipcode'].astype(str).str.zfill(5) # Ensures the 'zipcode' column is a 5-digit string, padding with leading zeros for consistent merging.\n",
        "\n",
        "url = f'https://api.census.gov/data/2022/acs/acs5?get=NAME,B19013_001E&for=zip%20code%20tabulation%20area:*&key={api_key}'\n",
        "response = requests.get(url)\n",
        "\n",
        "if response.status_code == 200: # Checks if the API request was successful (HTTP status code 200 means OK).\n",
        "    income_data = response.json() # Parses the JSON response from the API into a Python list of lists.\n",
        "    income_df = pd.DataFrame(income_data[1:], columns=income_data[0]) # Converts the list of lists into a Pandas DataFrame, using the first sublist as column headers.\n",
        "    income_df = income_df.rename(columns={'B19013_001E': 'median_income', 'zip code tabulation area': 'zipcode'}) # Renames the API's column names to more descriptive ones ('median_income' and 'zipcode').\n",
        "    income_df['zipcode'] = income_df['zipcode'].astype(str).str.zfill(5) # Standardizes the 'zipcode' format in the income data to ensure proper merging.\n",
        "    income_df['median_income'] = pd.to_numeric(income_df['median_income'], errors='coerce') # Converts the 'median_income' column to a numeric type, coercing any non-numeric values to NaN.\n",
        "\n",
        "    # Merge with housing data\n",
        "    df = df.merge(income_df[['zipcode', 'median_income']], on='zipcode', how='left') # Performs a left merge to add 'median_income' from the Census data to the main housing DataFrame based on 'zipcode'.\n",
        "    print(df[['zipcode', 'median_income']].head()) # Prints the head of the merged 'zipcode' and 'median_income' columns to verify the merge.\n",
        "else:\n",
        "    print(\"Error fetching data:\", response.status_code) # Prints an error message if the API request failed, including the HTTP status code.\n",
        "    print(\"Response content:\", response.text) # Prints the full content of the API's response to help debug the error."
      ]
    },
    {
      "cell_type": "code",
      "source": [
        "url = 'https://api.census.gov/data/2015/acs/acs5?get=B25010_001E,B12001_001E,B12001_002E,B12001_003E,B12001_004E,B12001_005E,B12001_006E,B25001_001E,B25003_002E,B25003_003E,B23025_001E,B23025_003E,B23025_005E,B15003_001E,B15003_017E,B15003_018E,B15003_019E,B15003_020E,B15002_001E,B15002_010E,B15002_011E,B15002_012E,B15002_013E,B15002_014E,B15002_015E,B15002_016E,B15002_017E,B15002_018E,B15002_019E,B15002_020E,B15002_021E,B15002_022E,B15002_023E&for=zip%20code%20tabulation%20area:*' # Defines the Census API URL to retrieve specific ACS 5-year demographic variables for all ZCTAs in 2015.\n",
        "\n",
        "response = requests.get(url) # Sends an HTTP GET request to the constructed Census API URL.\n",
        "\n",
        "if response.status_code == 200:\n",
        "    data = response.json()\n",
        "    df_census = pd.DataFrame(data[1:], columns=data[0])\n",
        "\n",
        "    numeric_cols = [col for col in df_census.columns if col.startswith('B')] # Identifies all columns that start with 'B' (Census variable IDs) as potential numeric columns.\n",
        "    df_census[numeric_cols] = df_census[numeric_cols].apply(pd.to_numeric, errors='coerce') # Converts identified Census variable columns to numeric type, coercing non-numeric values to NaN.\n",
        "\n",
        "    df_census = df_census.rename(columns={'zip code tabulation area': 'zipcode'}) # Renames the 'zip code tabulation area' column to 'zipcode' for consistency.\n",
        "    df_census['zipcode'] = df_census['zipcode'].astype(str).str.zfill(5) # Standardizes the 'zipcode' column to ensure a 5-digit string format with leading zeros.\n",
        "\n",
        "    df_census['avg_household_size_2015'] = df_census['B25010_001E'] # Creates a new feature for average household size using the corresponding Census variable.\n",
        "    df_census['percent_married_2015'] = (df_census['B12001_003E'] / df_census['B12001_001E']) * 100 # Calculates the percentage of married individuals using specific Census variables.\n",
        "\n",
        "    df_census['housing_units_2015'] = df_census['B25001_001E'] # Creates a new feature for the total number of housing units from the Census data.\n",
        "\n",
        "    total_occupied = df_census['B25003_002E'] + df_census['B25003_003E'] # Calculates the total number of occupied housing units by summing owner and renter occupied units.\n",
        "    df_census['percent_owner_occupied_2015'] = (df_census['B25003_002E'] / total_occupied) * 100 # Calculates the percentage of owner-occupied housing units.\n",
        "    df_census['percent_renter_occupied_2015'] = (df_census['B25003_003E'] / total_occupied) * 100 # Calculates the percentage of renter-occupied housing units.\n",
        "\n",
        "    df_census['unemployment_rate_2015'] = (df_census['B23025_005E'] / df_census['B23025_003E']) * 100 # Calculates the unemployment rate using employed and unemployed population counts.\n",
        "\n",
        "    hs_total = (df_census['B15002_010E'] + df_census['B15002_011E'] + df_census['B15002_012E'] + # Sums up various categories to get the total population with at least a high school degree.\n",
        "                  df_census['B15002_013E'] + df_census['B15002_014E'] + df_census['B15002_015E'] +\n",
        "                  df_census['B15002_016E'] + df_census['B15002_017E'] + df_census['B15002_018E'] +\n",
        "                  df_census['B15002_019E'] + df_census['B15002_020E'] + df_census['B15002_021E'] +\n",
        "                  df_census['B15002_022E'] + df_census['B15002_023E'])\n",
        "    df_census['percent_hs_grad_or_higher_2015'] = (hs_total / df_census['B15002_001E']) * 100\n",
        "\n",
        "    df_census['total_bachelors_or_higher_2015'] = (df_census['B15003_017E'] + df_census['B15003_018E'] +\n",
        "                                          df_census['B15003_019E'] + df_census['B15003_020E'])\n",
        "    df_census['percent_bachelors_or_higher_2015'] = (df_census['total_bachelors_or_higher_2015'] / df_census['B15003_001E']) * 100\n",
        "\n",
        "    # Merge with your main DataFrame on 'zipcode'\n",
        "    df = df.merge(df_census[['zipcode', 'avg_household_size_2015', 'percent_married_2015', 'housing_units_2015', # Merges the calculated demographic features from the Census DataFrame into the main DataFrame.\n",
        "                              'percent_owner_occupied_2015', 'percent_renter_occupied_2015',\n",
        "                              'unemployment_rate_2015', 'percent_hs_grad_or_higher_2015',\n",
        "                              'percent_bachelors_or_higher_2015']],\n",
        "                      on='zipcode', how='left') # Uses a left merge to keep all records from the main DataFrame and add matching demographic data.\n",
        "\n",
        "    print(df.head())\n",
        "\n",
        "else:\n",
        "    print(\"Error fetching data:\", response.status_code)\n",
        "    print(\"Response content:\", response.text)"
      ],
      "metadata": {
        "id": "2bM3yU5Q1_-c",
        "colab": {
          "base_uri": "https://localhost:8080/"
        },
        "outputId": "7d8487a6-8f2a-445a-c1b2-7b80e18f4b94"
      },
      "execution_count": null,
      "outputs": [
        {
          "output_type": "stream",
          "name": "stdout",
          "text": [
            "           id       date  bedrooms  bathrooms  sqft_living  sqft_lot  floors  \\\n",
            "0  1565930130 2014-11-04         4       3.25         3760      4675     2.0   \n",
            "1  3279000420 2015-01-15         3       1.75         1460      7800     1.0   \n",
            "2   194000575 2014-10-14         4       1.00         1340      5800     1.5   \n",
            "3  2115510160 2014-12-08         3       1.75         1440      8050     1.0   \n",
            "4  7522500005 2014-08-15         2       1.50         1780      4750     1.0   \n",
            "\n",
            "   waterfront  view  condition  ...  age_at_sale  median_income  \\\n",
            "0           0     0          3  ...            7         135304   \n",
            "1           0     0          2  ...           36          98057   \n",
            "2           0     2          3  ...          100         129924   \n",
            "3           0     0          3  ...           29          98057   \n",
            "4           0     0          4  ...           67         166029   \n",
            "\n",
            "   avg_household_size_2015  percent_married_2015  housing_units_2015  \\\n",
            "0                     2.86             12.556807               12545   \n",
            "1                     2.84             17.422428               18530   \n",
            "2                     2.05             15.481481               12313   \n",
            "3                     2.84             17.422428               18530   \n",
            "4                     2.29             15.297020               14220   \n",
            "\n",
            "  percent_owner_occupied_2015  percent_renter_occupied_2015  \\\n",
            "0                   84.881785                     15.118215   \n",
            "1                   66.810934                     33.189066   \n",
            "2                   56.026341                     43.973659   \n",
            "3                   66.810934                     33.189066   \n",
            "4                   69.811048                     30.188952   \n",
            "\n",
            "   unemployment_rate_2015  percent_hs_grad_or_higher_2015  \\\n",
            "0                8.237516                       99.081714   \n",
            "1                7.981084                       98.909600   \n",
            "2                3.855525                       99.086414   \n",
            "3                7.981084                       98.909600   \n",
            "4                4.762848                       99.833166   \n",
            "\n",
            "   percent_bachelors_or_higher_2015  \n",
            "0                         51.894242  \n",
            "1                         53.088450  \n",
            "2                         26.660576  \n",
            "3                         53.088450  \n",
            "4                         23.652819  \n",
            "\n",
            "[5 rows x 40 columns]\n"
          ]
        }
      ]
    },
    {
      "cell_type": "code",
      "source": [
        "url = 'https://api.census.gov/data/2014/acs/acs5?get=B25010_001E,B12001_001E,B12001_002E,B12001_003E,B12001_004E,B12001_005E,B12001_006E,B25001_001E,B25003_002E,B25003_003E,B23025_001E,B23025_003E,B23025_005E,B15003_001E,B15003_017E,B15003_018E,B15003_019E,B15003_020E,B15002_001E,B15002_010E,B15002_011E,B15002_012E,B15002_013E,B15002_014E,B15002_015E,B15002_016E,B15002_017E,B15002_018E,B15002_019E,B15002_020E,B15002_021E,B15002_022E,B15002_023E&for=zip%20code%20tabulation%20area:*'\n",
        "\n",
        "response = requests.get(url)\n",
        "\n",
        "if response.status_code == 200:\n",
        "    data = response.json()\n",
        "    df_census = pd.DataFrame(data[1:], columns=data[0])\n",
        "\n",
        "    numeric_cols = [col for col in df_census.columns if col.startswith('B')]\n",
        "    df_census[numeric_cols] = df_census[numeric_cols].apply(pd.to_numeric, errors='coerce')\n",
        "\n",
        "    df_census = df_census.rename(columns={'zip code tabulation area': 'zipcode'})\n",
        "    df_census['zipcode'] = df_census['zipcode'].astype(str).str.zfill(5)\n",
        "\n",
        "    df_census['avg_household_size_2014'] = df_census['B25010_001E']\n",
        "\n",
        "    df_census['percent_married_2014'] = (df_census['B12001_003E'] / df_census['B12001_001E']) * 100\n",
        "\n",
        "    df_census['housing_units_2014'] = df_census['B25001_001E']\n",
        "\n",
        "    total_occupied = df_census['B25003_002E'] + df_census['B25003_003E']\n",
        "    df_census['percent_owner_occupied_2014'] = (df_census['B25003_002E'] / total_occupied) * 100\n",
        "    df_census['percent_renter_occupied_2014'] = (df_census['B25003_003E'] / total_occupied) * 100\n",
        "\n",
        "    df_census['unemployment_rate_2014'] = (df_census['B23025_005E'] / df_census['B23025_003E']) * 100\n",
        "\n",
        "    hs_total = (df_census['B15002_010E'] + df_census['B15002_011E'] + df_census['B15002_012E'] +\n",
        "                df_census['B15002_013E'] + df_census['B15002_014E'] + df_census['B15002_015E'] +\n",
        "                df_census['B15002_016E'] + df_census['B15002_017E'] + df_census['B15002_018E'] +\n",
        "                df_census['B15002_019E'] + df_census['B15002_020E'] + df_census['B15002_021E'] +\n",
        "                df_census['B15002_022E'] + df_census['B15002_023E'])\n",
        "    df_census['percent_hs_grad_or_higher_2014'] = (hs_total / df_census['B15002_001E']) * 100\n",
        "\n",
        "    df_census['total_bachelors_or_higher_2014'] = (df_census['B15003_017E'] + df_census['B15003_018E'] +\n",
        "                                              df_census['B15003_019E'] + df_census['B15003_020E'])\n",
        "    df_census['percent_bachelors_or_higher_2014'] = (df_census['total_bachelors_or_higher_2014'] / df_census['B15003_001E']) * 100\n",
        "\n",
        "    df = df.merge(df_census[['zipcode', 'avg_household_size_2014', 'percent_married_2014', 'housing_units_2014',\n",
        "                              'percent_owner_occupied_2014', 'percent_renter_occupied_2014',\n",
        "                              'unemployment_rate_2014', 'percent_hs_grad_or_higher_2014',\n",
        "                              'percent_bachelors_or_higher_2014']],\n",
        "                  on='zipcode', how='left')\n",
        "\n",
        "    print(df.head())\n",
        "\n",
        "    print(df.head())\n",
        "\n",
        "else:\n",
        "    print(\"Error fetching data:\", response.status_code)\n",
        "    print(\"Response content:\", response.text)\n"
      ],
      "metadata": {
        "id": "Zv16kD_i3zjE",
        "colab": {
          "base_uri": "https://localhost:8080/"
        },
        "outputId": "437b3161-be63-40c8-8d89-cad6ccf507db"
      },
      "execution_count": null,
      "outputs": [
        {
          "output_type": "stream",
          "name": "stdout",
          "text": [
            "           id       date  bedrooms  bathrooms  sqft_living  sqft_lot  floors  \\\n",
            "0  1565930130 2014-11-04         4       3.25         3760      4675     2.0   \n",
            "1  3279000420 2015-01-15         3       1.75         1460      7800     1.0   \n",
            "2   194000575 2014-10-14         4       1.00         1340      5800     1.5   \n",
            "3  2115510160 2014-12-08         3       1.75         1440      8050     1.0   \n",
            "4  7522500005 2014-08-15         2       1.50         1780      4750     1.0   \n",
            "\n",
            "   waterfront  view  condition  ...  percent_hs_grad_or_higher_2015  \\\n",
            "0           0     0          3  ...                       99.081714   \n",
            "1           0     0          2  ...                       98.909600   \n",
            "2           0     2          3  ...                       99.086414   \n",
            "3           0     0          3  ...                       98.909600   \n",
            "4           0     0          4  ...                       99.833166   \n",
            "\n",
            "   percent_bachelors_or_higher_2015  avg_household_size_2014  \\\n",
            "0                         51.894242                     2.88   \n",
            "1                         53.088450                     2.81   \n",
            "2                         26.660576                     2.06   \n",
            "3                         53.088450                     2.81   \n",
            "4                         23.652819                     2.32   \n",
            "\n",
            "   percent_married_2014  housing_units_2014 percent_owner_occupied_2014  \\\n",
            "0             13.279019               12318                   84.631650   \n",
            "1             18.088105               18625                   64.765714   \n",
            "2             16.790914               12217                   55.167573   \n",
            "3             18.088105               18625                   64.765714   \n",
            "4             15.579380               14093                   70.672652   \n",
            "\n",
            "   percent_renter_occupied_2014  unemployment_rate_2014  \\\n",
            "0                     15.368350                8.409014   \n",
            "1                     35.234286                8.736679   \n",
            "2                     44.832427                4.419769   \n",
            "3                     35.234286                8.736679   \n",
            "4                     29.327348                4.742001   \n",
            "\n",
            "   percent_hs_grad_or_higher_2014  percent_bachelors_or_higher_2014  \n",
            "0                       99.045767                         54.232996  \n",
            "1                       98.464694                         51.544630  \n",
            "2                       99.342749                         28.636611  \n",
            "3                       98.464694                         51.544630  \n",
            "4                       99.629271                         24.463917  \n",
            "\n",
            "[5 rows x 48 columns]\n",
            "           id       date  bedrooms  bathrooms  sqft_living  sqft_lot  floors  \\\n",
            "0  1565930130 2014-11-04         4       3.25         3760      4675     2.0   \n",
            "1  3279000420 2015-01-15         3       1.75         1460      7800     1.0   \n",
            "2   194000575 2014-10-14         4       1.00         1340      5800     1.5   \n",
            "3  2115510160 2014-12-08         3       1.75         1440      8050     1.0   \n",
            "4  7522500005 2014-08-15         2       1.50         1780      4750     1.0   \n",
            "\n",
            "   waterfront  view  condition  ...  percent_hs_grad_or_higher_2015  \\\n",
            "0           0     0          3  ...                       99.081714   \n",
            "1           0     0          2  ...                       98.909600   \n",
            "2           0     2          3  ...                       99.086414   \n",
            "3           0     0          3  ...                       98.909600   \n",
            "4           0     0          4  ...                       99.833166   \n",
            "\n",
            "   percent_bachelors_or_higher_2015  avg_household_size_2014  \\\n",
            "0                         51.894242                     2.88   \n",
            "1                         53.088450                     2.81   \n",
            "2                         26.660576                     2.06   \n",
            "3                         53.088450                     2.81   \n",
            "4                         23.652819                     2.32   \n",
            "\n",
            "   percent_married_2014  housing_units_2014 percent_owner_occupied_2014  \\\n",
            "0             13.279019               12318                   84.631650   \n",
            "1             18.088105               18625                   64.765714   \n",
            "2             16.790914               12217                   55.167573   \n",
            "3             18.088105               18625                   64.765714   \n",
            "4             15.579380               14093                   70.672652   \n",
            "\n",
            "   percent_renter_occupied_2014  unemployment_rate_2014  \\\n",
            "0                     15.368350                8.409014   \n",
            "1                     35.234286                8.736679   \n",
            "2                     44.832427                4.419769   \n",
            "3                     35.234286                8.736679   \n",
            "4                     29.327348                4.742001   \n",
            "\n",
            "   percent_hs_grad_or_higher_2014  percent_bachelors_or_higher_2014  \n",
            "0                       99.045767                         54.232996  \n",
            "1                       98.464694                         51.544630  \n",
            "2                       99.342749                         28.636611  \n",
            "3                       98.464694                         51.544630  \n",
            "4                       99.629271                         24.463917  \n",
            "\n",
            "[5 rows x 48 columns]\n"
          ]
        }
      ]
    },
    {
      "cell_type": "code",
      "source": [
        "print(\"\\nMissing values after final column cleanup:\")\n",
        "print(df.isnull().sum()[df.isnull().sum() > 0])"
      ],
      "metadata": {
        "id": "R5dQJ7qx5LnQ",
        "colab": {
          "base_uri": "https://localhost:8080/"
        },
        "outputId": "6941d888-6830-47c1-b7be-9eda49671172"
      },
      "execution_count": null,
      "outputs": [
        {
          "output_type": "stream",
          "name": "stdout",
          "text": [
            "\n",
            "Missing values after final column cleanup:\n",
            "Series([], dtype: int64)\n"
          ]
        }
      ]
    },
    {
      "cell_type": "code",
      "source": [
        "df.columns"
      ],
      "metadata": {
        "id": "gYU3QlY5wicH",
        "colab": {
          "base_uri": "https://localhost:8080/"
        },
        "outputId": "c68fcf36-1ca9-4ad3-b624-26d0b773fba1"
      },
      "execution_count": null,
      "outputs": [
        {
          "output_type": "execute_result",
          "data": {
            "text/plain": [
              "Index(['id', 'date', 'bedrooms', 'bathrooms', 'sqft_living', 'sqft_lot',\n",
              "       'floors', 'waterfront', 'view', 'condition', 'grade', 'sqft_above',\n",
              "       'sqft_basement', 'yr_built', 'yr_renovated', 'zipcode', 'lat', 'long',\n",
              "       'sqft_living15', 'sqft_lot15', 'price', 'sale_year', 'sale_month',\n",
              "       'sale_day', 'renovated', 'low_grade', 'high_grade',\n",
              "       'sqft_living_x_grade', 'waterfront_x_sqft_living', 'has_basement',\n",
              "       'age_at_sale', 'median_income', 'avg_household_size_2015',\n",
              "       'percent_married_2015', 'housing_units_2015',\n",
              "       'percent_owner_occupied_2015', 'percent_renter_occupied_2015',\n",
              "       'unemployment_rate_2015', 'percent_hs_grad_or_higher_2015',\n",
              "       'percent_bachelors_or_higher_2015', 'avg_household_size_2014',\n",
              "       'percent_married_2014', 'housing_units_2014',\n",
              "       'percent_owner_occupied_2014', 'percent_renter_occupied_2014',\n",
              "       'unemployment_rate_2014', 'percent_hs_grad_or_higher_2014',\n",
              "       'percent_bachelors_or_higher_2014'],\n",
              "      dtype='object')"
            ]
          },
          "metadata": {},
          "execution_count": 104
        }
      ]
    },
    {
      "cell_type": "code",
      "source": [
        "df['zipcode'].unique()"
      ],
      "metadata": {
        "id": "Dbd1X4jDmq-c",
        "colab": {
          "base_uri": "https://localhost:8080/"
        },
        "outputId": "446a277d-36a0-4037-c94f-47cb7d5fe7f9"
      },
      "execution_count": null,
      "outputs": [
        {
          "output_type": "execute_result",
          "data": {
            "text/plain": [
              "array(['98038', '98023', '98116', '98117', '98034', '98065', '98031',\n",
              "       '98075', '98028', '98103', '98004', '98166', '98077', '98008',\n",
              "       '98006', '98199', '98052', '98136', '98108', '98055', '98027',\n",
              "       '98058', '98144', '98115', '98168', '98102', '98042', '98059',\n",
              "       '98002', '98155', '98072', '98001', '98112', '98007', '98177',\n",
              "       '98074', '98119', '98011', '98014', '98106', '98045', '98033',\n",
              "       '98125', '98133', '98053', '98122', '98022', '98178', '98148',\n",
              "       '98019', '98010', '98070', '98056', '98030', '98188', '98029',\n",
              "       '98107', '98105', '98198', '98003', '98118', '98126', '98040',\n",
              "       '98092', '98032', '98146', '98024', '98005', '98039', '98109'],\n",
              "      dtype=object)"
            ]
          },
          "metadata": {},
          "execution_count": 105
        }
      ]
    },
    {
      "cell_type": "code",
      "execution_count": null,
      "metadata": {
        "id": "8WCts6_XH8Ng"
      },
      "outputs": [],
      "source": [
        "for col in ['sqft_living', 'sqft_lot', 'price']: # Iterates through key numerical columns that often contain outliers\n",
        "    df[col] = df[col].clip(upper=df[col].quantile(0.99)) # Caps values of each column at their 99th percentile to lessen impact of extreme outliers."
      ]
    },
    {
      "cell_type": "code",
      "execution_count": null,
      "metadata": {
        "id": "zPcQPxqU0Lyx",
        "colab": {
          "base_uri": "https://localhost:8080/"
        },
        "outputId": "fb230a17-0946-4edd-c550-900e3aeb5eec"
      },
      "outputs": [
        {
          "output_type": "stream",
          "name": "stdout",
          "text": [
            "Numerical Features: ['bedrooms', 'bathrooms', 'sqft_living', 'sqft_lot', 'floors', 'sqft_basement', 'lat', 'long', 'sqft_living15', 'sqft_lot15', 'renovated', 'low_grade', 'high_grade', 'sqft_living_x_grade', 'waterfront_x_sqft_living', 'has_basement', 'age_at_sale', 'median_income', 'avg_household_size_2015', 'percent_married_2015', 'housing_units_2015', 'percent_owner_occupied_2015', 'percent_renter_occupied_2015', 'unemployment_rate_2015', 'percent_hs_grad_or_higher_2015', 'percent_bachelors_or_higher_2015', 'avg_household_size_2014', 'percent_married_2014', 'housing_units_2014', 'percent_owner_occupied_2014', 'percent_renter_occupied_2014', 'unemployment_rate_2014', 'percent_hs_grad_or_higher_2014', 'percent_bachelors_or_higher_2014']\n",
            "Categorical Features: ['zipcode', 'view', 'condition', 'grade', 'waterfront']\n"
          ]
        }
      ],
      "source": [
        "y = df['price']\n",
        "\n",
        "cols_to_drop = [\n",
        "    'id', 'price', 'date', 'yr_built', 'yr_renovated', 'sqft_above',\n",
        "]\n",
        "\n",
        "# Create X matrix\n",
        "X = df.drop(columns=cols_to_drop)\n",
        "\n",
        "# Define categorical features\n",
        "cat_features = ['zipcode', 'view', 'condition', 'grade', 'waterfront']\n",
        "\n",
        "# Define num. features\n",
        "num_features = X.select_dtypes(include=['int64', 'float64']).columns.tolist()\n",
        "num_features = [col for col in num_features if col not in cat_features]\n",
        "\n",
        "print(\"Numerical Features:\", num_features)\n",
        "print(\"Categorical Features:\", cat_features)"
      ]
    },
    {
      "cell_type": "code",
      "execution_count": null,
      "metadata": {
        "id": "TtrlBnMs0kQ9",
        "colab": {
          "base_uri": "https://localhost:8080/"
        },
        "outputId": "a052d09c-b6fe-4932-acfb-dc16e3de1887"
      },
      "outputs": [
        {
          "output_type": "stream",
          "name": "stdout",
          "text": [
            "\n",
            "Data split into training and testing sets.\n",
            "X_train shape: (16000, 42), y_train shape: (16000,)\n",
            "X_test shape: (4000, 42), y_test shape: (4000,)\n"
          ]
        }
      ],
      "source": [
        "X_train, X_test, y_train, y_test = train_test_split(X, y, test_size=0.2, random_state=42)\n",
        "\n",
        "print(\"\\nData split into training and testing sets.\")\n",
        "print(f\"X_train shape: {X_train.shape}, y_train shape: {y_train.shape}\")\n",
        "print(f\"X_test shape: {X_test.shape}, y_test shape: {y_test.shape}\")"
      ]
    },
    {
      "cell_type": "code",
      "execution_count": null,
      "metadata": {
        "id": "23d0zfq20MVp",
        "colab": {
          "base_uri": "https://localhost:8080/"
        },
        "outputId": "5d34fd01-ada8-4b86-9e82-ce2613ceb908"
      },
      "outputs": [
        {
          "output_type": "stream",
          "name": "stdout",
          "text": [
            "Preprocessor & Pipeline\n"
          ]
        }
      ],
      "source": [
        "preprocessor = ColumnTransformer(\n",
        "    transformers=[\n",
        "        ('num', MinMaxScaler(), num_features), # Applies MinMaxScaler to numerical features to scale them to a range (typically 0-1).\n",
        "        ('cat', OneHotEncoder(handle_unknown='ignore', sparse_output=False), cat_features) # Applies OneHotEncoder to categorical features, converting them into binary columns and handling unseen categories.\n",
        "    ],\n",
        "    remainder='passthrough' # Specifies that columns not explicitly listed in 'num_features' or 'cat_features' should be kept in the dataset.\n",
        ")\n",
        "\n",
        "# pipelines are essentially a way to chain together multiple data processing and modeling steps into one cohesive unit.\n",
        "xgb_pipeline = Pipeline(steps=[\n",
        "    ('preprocessor', preprocessor), # Integrates the defined preprocessor (scaling and one-hot encoding) as the first step in the pipeline.\n",
        "    ('regressor', XGBRegressor(objective='reg:squarederror', random_state=42, verbosity=0)) # Adds an XGBoost Regressor as the second step, set up for regression with a fixed random state for reproducibility.\n",
        "])\n",
        "\n",
        "print(\"Preprocessor & Pipeline\")"
      ]
    },
    {
      "cell_type": "code",
      "execution_count": null,
      "metadata": {
        "id": "rDEideJY0NUK"
      },
      "outputs": [],
      "source": [
        "param_grid = {\n",
        "    'regressor__n_estimators': [800, 1200], # Number of boosting rounds (trees) to test for the XGBoost regressor.\n",
        "    'regressor__max_depth': [5, 6], # Max depth of each decision tree in the XGBoost model.\n",
        "    'regressor__learning_rate': [0.05, 0.07], # Sets the step size shrinkage to prevent overfitting during boosting.\n",
        "    'regressor__subsample': [0.8, 0.9], # Determines the fraction of samples to be randomly sampled for each tree.\n",
        "    'regressor__colsample_bytree': [0.8, 0.9], # The fraction of featurest to be randomly sampled for each tree.\n",
        "    'regressor__gamma': [0.0, 0.1], # Sets minimum loss reduction required to make a further partition on a leaf node.\n",
        "    'regressor__reg_alpha': [0.01, 0.1], # Applies L1 regularization (Original Loss + λ * Σ|coefficient|)\n",
        "    'regressor__reg_lambda': [0.01, 0.1] # Applies L2 regularization (Original Loss + λ * Σ(coefficient^2))\n",
        "}\n",
        "\n",
        "grid_search = GridSearchCV(\n",
        "    estimator=xgb_pipeline, # Specifies our pipeline\n",
        "    param_grid=param_grid, # Sets hyperparameter grid\n",
        "    scoring='neg_root_mean_squared_error', # Negative RMSE is used because GridSearchCV maximizes scores.\n",
        "    cv=5, # Sets up 5-fold cross-validation, meaning the data is split into 5 parts for training and validation cycles.\n",
        "    verbose=2, # Increases the verbosity level to show more details during the grid search process.\n",
        "    n_jobs=-1 # Just explains the number of available CPU cores for paralell processing\n",
        ")\n",
        "\n",
        "#grid_search.fit(X_train, y_train) # Starts the (very) exhaustive search for the best hyperparameters using the training data."
      ]
    },
    {
      "cell_type": "code",
      "source": [
        "model_filename = 'final_model.pkl'\n",
        "with open(model_filename, 'rb') as file:\n",
        "     loaded_model = pickle.load(file)\n",
        "print(\"Model loaded successfully!\")"
      ],
      "metadata": {
        "colab": {
          "base_uri": "https://localhost:8080/"
        },
        "id": "Gh95Nmlur-Jw",
        "outputId": "64f7649f-4a14-4e46-bd7c-7a745fec7c4c"
      },
      "execution_count": null,
      "outputs": [
        {
          "output_type": "stream",
          "name": "stdout",
          "text": [
            "Model loaded successfully!\n"
          ]
        }
      ]
    },
    {
      "cell_type": "code",
      "execution_count": null,
      "metadata": {
        "id": "jaTcTDlD0pLa"
      },
      "outputs": [],
      "source": [
        "#print(\"Best Hyperparameters Found:\")\n",
        "#print(grid_search.best_params_)\n",
        "\n",
        "#print(\"\\nBest Cross-Validation Score (Negative Root Mean Squared Error):\")\n",
        "#print(grid_search.best_score_)\n",
        "\n",
        "# The best score will be negative because we used 'neg_root_mean_squared_error'.\n",
        "# To get the actual RMSE, you just take the absolute value:\n",
        "#print(f\"Equivalent Best Cross-Validation RMSE: {abs(grid_search.best_score_):.2f}\")"
      ]
    },
    {
      "cell_type": "markdown",
      "source": [
        "Best Params: {'regressor__colsample_bytree': 0.8, 'regressor__gamma': 0.0, 'regressor__learning_rate': 0.05, 'regressor__max_depth': 5, 'regressor__n_estimators': 1200, 'regressor__reg_alpha': 0.1, 'regressor__reg_lambda': 0.1, 'regressor__subsample': 0.8}\n"
      ],
      "metadata": {
        "id": "bdlzF-llyuge"
      }
    },
    {
      "cell_type": "code",
      "execution_count": null,
      "metadata": {
        "id": "4vtKkaAj01Tr",
        "colab": {
          "base_uri": "https://localhost:8080/"
        },
        "outputId": "b71fa98d-9e3b-4efb-a427-61f1b4fbdedb"
      },
      "outputs": [
        {
          "output_type": "stream",
          "name": "stdout",
          "text": [
            "--- Model Performance on TRAINING Set ---\n",
            "Train RMSE: $44,024.00\n",
            "Train R-squared: 0.9805\n",
            "\n",
            "--- Model Performance on UNSEEN TEST Set ---\n",
            "Test RMSE: $93,997.10\n",
            "Test R-squared: 0.9145\n"
          ]
        }
      ],
      "source": [
        "from sklearn.metrics import mean_squared_error, r2_score # Imports necessary metrics: mean_squared_error and r2_score.\n",
        "import numpy as np # Imports NumPy, which is needed for numerical operations like square root.\n",
        "\n",
        "# --- Evaluate on Training Data ---\n",
        "y_pred_train = loaded_model.predict(X_train) # Generates predictions for the training set using the best-performing pipeline.\n",
        "\n",
        "mse_train = mean_squared_error(y_train, y_pred_train) # Calculates the Mean Squared Error (MSE) for the training set.\n",
        "rmse_train = np.sqrt(mse_train) # Calculates the Root Mean Squared Error (RMSE) by taking the square root of the MSE.\n",
        "r2_train = r2_score(y_train, y_pred_train) # Calculates the R-squared score for the training set.\n",
        "\n",
        "print(f\"Training Set Performance:\") # Prints a header for the training set performance metrics.\n",
        "print(f\"Train RMSE: ${rmse_train:,.2f}\") # Prints the calculated RMSE for the training set, formatted as currency.\n",
        "print(f\"Train R-squared: {r2_train:.4f}\") # Prints the calculated R-squared for the training set, formatted to four decimal places.\n",
        "\n",
        "# --- Evaluate on Test Data ---\n",
        "y_pred_test = loaded_model.predict(X_test) # Generates predictions for the unseen test set using the best-performing pipeline.\n",
        "\n",
        "mse_test = mean_squared_error(y_test, y_pred_test) # Calculates the Mean Squared Error (MSE) for the test set.\n",
        "test_rmse = np.sqrt(mse_test) # Calculates the Root Mean Squared Error (RMSE) by taking the square root of the MSE.\n",
        "test_r2 = r2_score(y_test, y_pred_test) # Calculates the R-squared score for the test set.\n",
        "\n",
        "print(f\"\\nTest Set Performance:\") # Prints a header for the test set performance metrics.\n",
        "print(f\"Test RMSE: ${test_rmse:,.2f}\") # Prints the calculated RMSE for the test set, formatted as currency.\n",
        "print(f\"Test R-squared: {test_r2:.4f}\") # Prints the calculated R-squared for the test set, formatted to four decimal places."
      ]
    },
    {
      "cell_type": "code",
      "execution_count": null,
      "metadata": {
        "id": "fPsuTTwq1Ii9",
        "colab": {
          "base_uri": "https://localhost:8080/"
        },
        "outputId": "6d078beb-835b-431e-badd-5878a6df9d27"
      },
      "outputs": [
        {
          "output_type": "stream",
          "name": "stdout",
          "text": [
            "\n",
            "Best model saved to final_model.pkl\n"
          ]
        }
      ],
      "source": [
        "#model_filename = 'final_model.pkl'\n",
        "\n",
        "# Save the entire pipeline (including preprocessor and regressor)\n",
        "#with open(model_filename, 'wb') as file:\n",
        "#    pickle.dump(final_pipeline, file)\n",
        "\n",
        "#print(f\"\\nBest model saved to {model_filename}\")"
      ]
    },
    {
      "cell_type": "code",
      "execution_count": null,
      "metadata": {
        "id": "o9KG-m3R23pG",
        "colab": {
          "base_uri": "https://localhost:8080/"
        },
        "outputId": "d97d405a-7cb9-479a-d75a-2dc1140f11a6"
      },
      "outputs": [
        {
          "output_type": "stream",
          "name": "stdout",
          "text": [
            "\n",
            "Actual vs. Predicted Prices with Errors\n",
            "       Actual_Price  Predicted_Price  Absolute_Error  Percentage_Error\n",
            "10650      825000.0     803392.93750     21607.06250          2.619038\n",
            "2041       532500.0     488948.31250     43551.68750          8.178721\n",
            "8668       435000.0     540462.81250    105462.81250         24.244325\n",
            "1114       216000.0     231873.84375     15873.84375          7.349002\n",
            "13902      525000.0     659467.25000    134467.25000         25.612810\n"
          ]
        }
      ],
      "source": [
        "comparison_df = pd.DataFrame({\n",
        "    'Actual_Price': y_test,\n",
        "    'Predicted_Price': y_pred_test\n",
        "})\n",
        "comparison_df['Absolute_Error'] = abs(comparison_df['Actual_Price'] - comparison_df['Predicted_Price']) # Calculates the absolute difference between actual and predicted prices.\n",
        "comparison_df['Percentage_Error'] = (comparison_df['Absolute_Error'] / comparison_df['Actual_Price']) * 100 # Calculates the percentage error, showing the error relative to the actual price.\n",
        "print(\"\\nActual vs. Predicted Prices with Errors\")\n",
        "print(comparison_df.head())"
      ]
    },
    {
      "cell_type": "code",
      "execution_count": null,
      "metadata": {
        "id": "T3Gi5vCqIIqQ",
        "colab": {
          "base_uri": "https://localhost:8080/"
        },
        "outputId": "318a598d-fc71-4ce7-a028-081554a8456d"
      },
      "outputs": [
        {
          "output_type": "stream",
          "name": "stdout",
          "text": [
            "\n",
            "--- Actual vs. Predicted Prices with Errors ---\n",
            "       Actual_Price  Predicted_Price  Absolute_Error  Percentage_Error\n",
            "10650      825000.0     803392.93750     21607.06250          2.619038\n",
            "2041       532500.0     488948.31250     43551.68750          8.178721\n",
            "8668       435000.0     540462.81250    105462.81250         24.244325\n",
            "1114       216000.0     231873.84375     15873.84375          7.349002\n",
            "13902      525000.0     659467.25000    134467.25000         25.612810\n"
          ]
        }
      ],
      "source": [
        "comparison_df = pd.DataFrame({\n",
        "    'Actual_Price': y_test,\n",
        "    'Predicted_Price': y_pred_test\n",
        "})\n",
        "comparison_df['Absolute_Error'] = abs(comparison_df['Actual_Price'] - comparison_df['Predicted_Price'])\n",
        "comparison_df['Percentage_Error'] = (comparison_df['Absolute_Error'] / comparison_df['Actual_Price']) * 100\n",
        "print(\"\\n--- Actual vs. Predicted Prices with Errors ---\")\n",
        "print(comparison_df.head())"
      ]
    },
    {
      "cell_type": "code",
      "execution_count": null,
      "metadata": {
        "id": "ippynEOlIJlS",
        "colab": {
          "base_uri": "https://localhost:8080/",
          "height": 607
        },
        "outputId": "666dd088-170a-46a4-b6f1-67b747b05889"
      },
      "outputs": [
        {
          "output_type": "display_data",
          "data": {
            "text/plain": [
              "<Figure size 800x600 with 1 Axes>"
            ],
            "image/png": "[encoded data removed]"
          },
          "metadata": {}
        }
      ],
      "source": [
        "plt.figure(figsize=(8, 6))\n",
        "\n",
        "sns.scatterplot(x='Actual_Price', y='Predicted_Price', data=comparison_df, alpha=0.6)\n",
        "\n",
        "max_price = max(comparison_df['Actual_Price'].max(), comparison_df['Predicted_Price'].max())\n",
        "min_price = min(comparison_df['Actual_Price'].min(), comparison_df['Predicted_Price'].min())\n",
        "plt.plot([min_price, max_price], [min_price, max_price], color='red', linestyle='--', linewidth=2, label='Perfect Prediction (y=x)')\n",
        "\n",
        "top_error_indices = comparison_df.sort_values(by='Absolute_Error', ascending=False).head(10).index\n",
        "\n",
        "\n",
        "sns.scatterplot(x='Actual_Price', y='Predicted_Price', data=comparison_df.loc[top_error_indices],\n",
        "                color='purple', s=100, marker='X', label='Top 10 Largest Errors', zorder=5)\n",
        "\n",
        "plt.title('Actual vs. Predicted Housing Prices (Test Set)', fontsize=16)\n",
        "plt.xlabel('Actual Price', fontsize=14)\n",
        "plt.ylabel('Predicted Price', fontsize=14)\n",
        "plt.grid(True, linestyle='--', alpha=0.7)\n",
        "plt.legend(fontsize=12)\n",
        "plt.tight_layout()\n",
        "plt.show()"
      ]
    },
    {
      "cell_type": "code",
      "execution_count": null,
      "metadata": {
        "id": "oaI5BEgIIKgp",
        "colab": {
          "base_uri": "https://localhost:8080/"
        },
        "outputId": "86a62656-8627-4c82-c1b9-5b1a844e4950"
      },
      "outputs": [
        {
          "output_type": "stream",
          "name": "stdout",
          "text": [
            "[19475, 1175, 15402, 14807, 3753, 15019, 14250, 9722, 12754, 12344]\n"
          ]
        }
      ],
      "source": [
        "top_10_error_indices = comparison_df.sort_values(by='Absolute_Error', ascending=False).head(10).index.tolist()\n",
        "print(top_10_error_indices)"
      ]
    },
    {
      "cell_type": "code",
      "execution_count": null,
      "metadata": {
        "id": "lx9_GfXyILYg",
        "colab": {
          "base_uri": "https://localhost:8080/"
        },
        "outputId": "454210b1-1f2c-4ee2-8146-981c9303104c"
      },
      "outputs": [
        {
          "output_type": "stream",
          "name": "stdout",
          "text": [
            "\n",
            "Features of Houses with Top 10 Largest Errors\n",
            "       bedrooms  bathrooms  sqft_living  sqft_lot  floors  waterfront  view  \\\n",
            "19475         5       3.50       4460.0      2975     3.0           0     2   \n",
            "1175          4       2.50       3070.0      7830     2.0           0     2   \n",
            "15402         4       2.50       3690.0     11191     1.0           0     3   \n",
            "14807         3       2.50       2510.0     12779     1.5           0     4   \n",
            "3753          4       4.25       4980.2     68257     2.0           0     0   \n",
            "15019         3       2.00       2110.0     18815     2.0           0     0   \n",
            "14250         5       4.00       4590.0     35046     2.0           0     0   \n",
            "9722          5       3.25       4980.2     13726     2.0           0     3   \n",
            "12754         3       3.00       3850.0     38830     2.0           0     1   \n",
            "12344         5       3.25       4290.0      7019     2.5           0     0   \n",
            "\n",
            "       condition  grade  sqft_basement  ... percent_hs_grad_or_higher_2015  \\\n",
            "19475          3     10           1180  ...                      98.691235   \n",
            "1175           3     11           1100  ...                      99.139335   \n",
            "15402          4     10           1500  ...                      99.169064   \n",
            "14807          3     10              0  ...                      99.645367   \n",
            "3753           3     11              0  ...                      98.492462   \n",
            "15019          5      7              0  ...                      99.951674   \n",
            "14250          3     10              0  ...                     100.354759   \n",
            "9722           3     10           1360  ...                     100.150127   \n",
            "12754          3     10              0  ...                     100.150127   \n",
            "12344          4     10            700  ...                      99.236325   \n",
            "\n",
            "       percent_bachelors_or_higher_2015  avg_household_size_2014  \\\n",
            "19475                         21.789794                     1.89   \n",
            "1175                          31.988835                     2.24   \n",
            "15402                         22.416107                     2.24   \n",
            "14807                         34.178162                     2.44   \n",
            "3753                          41.447236                     2.71   \n",
            "15019                         21.139109                     3.16   \n",
            "14250                         25.882129                     2.30   \n",
            "9722                          27.042113                     2.81   \n",
            "12754                         27.042113                     2.81   \n",
            "12344                         17.546768                     2.12   \n",
            "\n",
            "       percent_married_2014  housing_units_2014  percent_owner_occupied_2014  \\\n",
            "19475             25.428951               12075                    40.114135   \n",
            "1175              23.041514               12994                    47.693842   \n",
            "15402             15.287600                9908                    63.396185   \n",
            "14807             17.057790               18171                    60.109001   \n",
            "3753              16.475645                2796                    80.173092   \n",
            "15019             11.460327                7356                    87.729196   \n",
            "14250             14.803502               16431                    65.221360   \n",
            "9722              13.709650               13558                    77.957564   \n",
            "12754             13.709650               13558                    77.957564   \n",
            "12344             21.086498               11036                    54.353054   \n",
            "\n",
            "       percent_renter_occupied_2014  unemployment_rate_2014  \\\n",
            "19475                     59.885865                5.074964   \n",
            "1175                      52.306158                6.687801   \n",
            "15402                     36.603815                4.887626   \n",
            "14807                     39.890999                7.793342   \n",
            "3753                      19.826908                5.778770   \n",
            "15019                     12.270804                4.311894   \n",
            "14250                     34.778640                6.479482   \n",
            "9722                      22.042436                7.314771   \n",
            "12754                     22.042436                7.314771   \n",
            "12344                     45.646946                6.614844   \n",
            "\n",
            "       percent_hs_grad_or_higher_2014  percent_bachelors_or_higher_2014  \n",
            "19475                       99.027678                         20.561918  \n",
            "1175                        99.233166                         31.929068  \n",
            "15402                       99.106211                         21.711900  \n",
            "14807                       99.855368                         35.227796  \n",
            "3753                        97.507270                         41.296219  \n",
            "15019                       99.934201                         21.340839  \n",
            "14250                      100.686668                         27.482346  \n",
            "9722                       100.438545                         26.786199  \n",
            "12754                      100.438545                         26.786199  \n",
            "12344                       99.309699                         17.801568  \n",
            "\n",
            "[10 rows x 42 columns]\n"
          ]
        }
      ],
      "source": [
        "print(\"\\nFeatures of Houses with Top 10 Largest Errors\")\n",
        "print(X_test.loc[top_10_error_indices])"
      ]
    },
    {
      "cell_type": "code",
      "source": [
        "holdout_url = \"https://raw.githubusercontent.com/byui-cse/cse450-course/master/data/housing_holdout_test.csv\"\n",
        "holdout = pd.read_csv(holdout_url)"
      ],
      "metadata": {
        "id": "RuiUaReoJ9RQ"
      },
      "execution_count": null,
      "outputs": []
    },
    {
      "cell_type": "code",
      "source": [
        "holdout.shape"
      ],
      "metadata": {
        "id": "ht3wFgXNmoFy",
        "colab": {
          "base_uri": "https://localhost:8080/"
        },
        "outputId": "fcd9fde3-5ff9-48da-e7ea-c329598e0953"
      },
      "execution_count": null,
      "outputs": [
        {
          "output_type": "execute_result",
          "data": {
            "text/plain": [
              "(1613, 20)"
            ]
          },
          "metadata": {},
          "execution_count": 128
        }
      ]
    },
    {
      "cell_type": "code",
      "source": [
        "def handle_age_at_sale(holdout, method='adjust'):\n",
        "    if method == 'nan':\n",
        "        holdout['age_at_sale'] = holdout['sale_year'] - holdout['yr_built']\n",
        "        holdout.loc[holdout['age_at_sale'] < 0, 'age_at_sale'] = np.nan\n",
        "    elif method == 'zero':\n",
        "        holdout['age_at_sale'] = holdout['sale_year'] - holdout['yr_built']\n",
        "        holdout.loc[holdout['age_at_sale'] < 0, 'age_at_sale'] = 0\n",
        "    elif method == 'adjust':\n",
        "        holdout.loc[holdout['yr_built'] > holdout['sale_year'], 'yr_built'] = holdout['sale_year']\n",
        "        holdout['age_at_sale'] = holdout['sale_year'] - holdout['yr_built']\n",
        "    else:\n",
        "        raise ValueError(\"Method must be 'nan', 'zero', or 'adjust'\")\n",
        "    return holdout"
      ],
      "metadata": {
        "id": "jrV8_6Y7lZJP"
      },
      "execution_count": null,
      "outputs": []
    },
    {
      "cell_type": "code",
      "source": [
        "holdout['date'] = pd.to_datetime(holdout['date'].str.replace('T000000', ''), errors='coerce')\n",
        "holdout['sale_year'] = holdout['date'].dt.year\n",
        "holdout['sale_month'] = holdout['date'].dt.month\n",
        "holdout['sale_day'] = holdout['date'].dt.dayofweek\n",
        "holdout['renovated'] = holdout['yr_renovated'].apply(lambda x: 1 if x > 0 else 0)\n",
        "holdout['low_grade'] = (holdout['grade'] <= 3).astype(int)\n",
        "holdout['high_grade'] = (holdout['grade'] >= 11).astype(int)\n",
        "holdout['sqft_living_x_grade'] = holdout['sqft_living'] * df['grade']\n",
        "holdout['waterfront_x_sqft_living'] = holdout['waterfront'] * df['sqft_living']\n",
        "holdout['has_basement'] = np.where(holdout['sqft_basement'] > 0, 1, 0)"
      ],
      "metadata": {
        "id": "yNshebpDljcB"
      },
      "execution_count": null,
      "outputs": []
    },
    {
      "cell_type": "code",
      "source": [
        "holdout = handle_age_at_sale(holdout, method='adjust')\n",
        "holdout.loc[holdout['id'] == 2402100895, 'bedrooms'] = 3\n",
        "print(holdout[holdout['yr_built'] > holdout['sale_year']][['date', 'yr_built', 'sale_year']])"
      ],
      "metadata": {
        "id": "v4SXiFI0lsJt",
        "colab": {
          "base_uri": "https://localhost:8080/"
        },
        "outputId": "7d155ba8-3330-48f5-a35c-a0f1b25b09d8"
      },
      "execution_count": null,
      "outputs": [
        {
          "output_type": "stream",
          "name": "stdout",
          "text": [
            "Empty DataFrame\n",
            "Columns: [date, yr_built, sale_year]\n",
            "Index: []\n"
          ]
        }
      ]
    },
    {
      "cell_type": "code",
      "source": [
        "holdout['zipcode'] = holdout['zipcode'].astype(str).str.zfill(5)\n",
        "\n",
        "url = f'https://api.census.gov/data/2022/acs/acs5?get=NAME,B19013_001E&for=zip%20code%20tabulation%20area:*&key={api_key}'\n",
        "response = requests.get(url)\n",
        "\n",
        "if response.status_code == 200:\n",
        "    income_data = response.json()\n",
        "    income_df = pd.DataFrame(income_data[1:], columns=income_data[0])\n",
        "    income_df = income_df.rename(columns={'B19013_001E': 'median_income', 'zip code tabulation area': 'zipcode'})\n",
        "    income_df['zipcode'] = income_df['zipcode'].astype(str).str.zfill(5)\n",
        "    income_df['median_income'] = pd.to_numeric(income_df['median_income'], errors='coerce')\n",
        "\n",
        "    holdout = holdout.merge(income_df[['zipcode', 'median_income']], on='zipcode', how='left')\n",
        "    print(holdout[['zipcode', 'median_income']].head())\n",
        "else:\n",
        "    print(\"Error fetching data:\", response.status_code)\n",
        "    print(\"Response content:\", response.text)"
      ],
      "metadata": {
        "colab": {
          "base_uri": "https://localhost:8080/"
        },
        "id": "jTycib2PoK2F",
        "outputId": "7a273471-026b-4662-90e6-0e0266929376"
      },
      "execution_count": null,
      "outputs": [
        {
          "output_type": "stream",
          "name": "stdout",
          "text": [
            "  zipcode  median_income\n",
            "0   98058         106611\n",
            "1   98115         141013\n",
            "2   98006         185991\n",
            "3   98034         119806\n",
            "4   98052         158457\n"
          ]
        }
      ]
    },
    {
      "cell_type": "code",
      "source": [
        "holdout['zipcode'] = holdout['zipcode'].astype(str).str.zfill(5)\n",
        "url_2015 = 'https://api.census.gov/data/2015/acs/acs5?get=B25010_001E,B12001_001E,B12001_003E,B25001_001E,B25003_002E,B25003_003E,B23025_003E,B23025_005E,B15002_001E,B15002_010E,B15002_011E,B15002_012E,B15002_013E,B15002_014E,B15002_015E,B15002_016E,B15002_017E,B15002_018E,B15002_019E,B15002_020E,B15002_021E,B15002_022E,B15002_023E,B15003_001E,B15003_017E,B15003_018E,B15003_019E,B15003_020E&for=zip%20code%20tabulation%20area:*'\n",
        "response_2015 = requests.get(url_2015)\n",
        "\n",
        "if response_2015.status_code == 200:\n",
        "    data_2015 = response_2015.json()\n",
        "    df_census_2015 = pd.DataFrame(data_2015[1:], columns=data_2015[0])\n",
        "\n",
        "    numeric_cols_2015 = [col for col in df_census_2015.columns if col.startswith('B')]\n",
        "    df_census_2015[numeric_cols_2015] = df_census_2015[numeric_cols_2015].apply(pd.to_numeric, errors='coerce')\n",
        "\n",
        "    df_census_2015 = df_census_2015.rename(columns={'zip code tabulation area': 'zipcode'})\n",
        "    df_census_2015['zipcode'] = df_census_2015['zipcode'].astype(str).str.zfill(5)\n",
        "\n",
        "    df_census_2015['avg_household_size_2015'] = df_census_2015['B25010_001E']\n",
        "    df_census_2015['percent_married_2015'] = (df_census_2015['B12001_003E'] / df_census_2015['B12001_001E']) * 100\n",
        "    df_census_2015['housing_units_2015'] = df_census_2015['B25001_001E']\n",
        "    total_occupied_2015 = df_census_2015['B25003_002E'] + df_census_2015['B25003_003E']\n",
        "    df_census_2015['percent_owner_occupied_2015'] = (df_census_2015['B25003_002E'] / total_occupied_2015) * 100\n",
        "    df_census_2015['percent_renter_occupied_2015'] = (df_census_2015['B25003_003E'] / total_occupied_2015) * 100\n",
        "    df_census_2015['unemployment_rate_2015'] = (df_census_2015['B23025_005E'] / df_census_2015['B23025_003E']) * 100\n",
        "\n",
        "    hs_total_2015 = (df_census_2015['B15002_010E'] + df_census_2015['B15002_011E'] + df_census_2015['B15002_012E'] +\n",
        "                     df_census_2015['B15002_013E'] + df_census_2015['B15002_014E'] + df_census_2015['B15002_015E'] +\n",
        "                     df_census_2015['B15002_016E'] + df_census_2015['B15002_017E'] + df_census_2015['B15002_018E'] +\n",
        "                     df_census_2015['B15002_019E'] + df_census_2015['B15002_020E'] + df_census_2015['B15002_021E'] +\n",
        "                     df_census_2015['B15002_022E'] + df_census_2015['B15002_023E'])\n",
        "    df_census_2015['percent_hs_grad_or_higher_2015'] = (hs_total_2015 / df_census_2015['B15002_001E']) * 100\n",
        "\n",
        "    total_bachelors_or_higher_2015 = (df_census_2015['B15003_017E'] + df_census_2015['B15003_018E'] +\n",
        "                                      df_census_2015['B15003_019E'] + df_census_2015['B15003_020E'])\n",
        "\n",
        "    df_census_2015['percent_bachelors_or_higher_2015'] = (total_bachelors_or_higher_2015 / df_census_2015['B15003_001E']) * 100\n",
        "\n",
        "\n",
        "    holdout = holdout.merge(df_census_2015[['zipcode', 'avg_household_size_2015', 'percent_married_2015',\n",
        "                                                'housing_units_2015', 'percent_owner_occupied_2015',\n",
        "                                                'percent_renter_occupied_2015', 'unemployment_rate_2015',\n",
        "                                                'percent_hs_grad_or_higher_2015', 'percent_bachelors_or_higher_2015']],\n",
        "                                  on='zipcode', how='left')\n",
        "\n",
        "    print(\"\\n2015 Census data merged with holdout. Head:\")\n",
        "    print(holdout.head())\n",
        "\n",
        "else:\n",
        "    print(\"Error fetching 2015 Census data:\", response_2015.status_code)\n",
        "    print(\"Response content:\", response_2015.text)\n",
        "\n",
        "\n",
        "url_2014 = 'https://api.census.gov/data/2014/acs/acs5?get=B25010_001E,B12001_001E,B12001_003E,B25001_001E,B25003_002E,B25003_003E,B23025_003E,B23025_005E,B15002_001E,B15002_010E,B15002_011E,B15002_012E,B15002_013E,B15002_014E,B15002_015E,B15002_016E,B15002_017E,B15002_018E,B15002_019E,B15002_020E,B15002_021E,B15002_022E,B15002_023E,B15003_001E,B15003_017E,B15003_018E,B15003_019E,B15003_020E&for=zip%20code%20tabulation%20area:*'\n",
        "\n",
        "response_2014 = requests.get(url_2014)\n",
        "\n",
        "if response_2014.status_code == 200:\n",
        "    data_2014 = response_2014.json()\n",
        "    df_census_2014 = pd.DataFrame(data_2014[1:], columns=data_2014[0])\n",
        "\n",
        "    numeric_cols_2014 = [col for col in df_census_2014.columns if col.startswith('B')]\n",
        "    df_census_2014[numeric_cols_2014] = df_census_2014[numeric_cols_2014].apply(pd.to_numeric, errors='coerce')\n",
        "\n",
        "    df_census_2014 = df_census_2014.rename(columns={'zip code tabulation area': 'zipcode'})\n",
        "    df_census_2014['zipcode'] = df_census_2014['zipcode'].astype(str).str.zfill(5)\n",
        "\n",
        "    df_census_2014['avg_household_size_2014'] = df_census_2014['B25010_001E']\n",
        "    df_census_2014['percent_married_2014'] = (df_census_2014['B12001_003E'] / df_census_2014['B12001_001E']) * 100\n",
        "    df_census_2014['housing_units_2014'] = df_census_2014['B25001_001E']\n",
        "    total_occupied_2014 = df_census_2014['B25003_002E'] + df_census_2014['B25003_003E']\n",
        "    df_census_2014['percent_owner_occupied_2014'] = (df_census_2014['B25003_002E'] / total_occupied_2014) * 100\n",
        "    df_census_2014['percent_renter_occupied_2014'] = (df_census_2014['B25003_003E'] / total_occupied_2014) * 100\n",
        "    df_census_2014['unemployment_rate_2014'] = (df_census_2014['B23025_005E'] / df_census_2014['B23025_003E']) * 100\n",
        "\n",
        "    hs_total_2014 = (df_census_2014['B15002_010E'] + df_census_2014['B15002_011E'] + df_census_2014['B15002_012E'] +\n",
        "                     df_census_2014['B15002_013E'] + df_census_2014['B15002_014E'] + df_census_2014['B15002_015E'] +\n",
        "                     df_census_2014['B15002_016E'] + df_census_2014['B15002_017E'] + df_census_2014['B15002_018E'] +\n",
        "                     df_census_2014['B15002_019E'] + df_census_2014['B15002_020E'] + df_census_2014['B15002_021E'] +\n",
        "                     df_census_2014['B15002_022E'] + df_census_2014['B15002_023E'])\n",
        "    df_census_2014['percent_hs_grad_or_higher_2014'] = (hs_total_2014 / df_census_2014['B15002_001E']) * 100\n",
        "\n",
        "    total_bachelors_or_higher_2014 = (df_census_2014['B15003_017E'] + df_census_2014['B15003_018E'] +\n",
        "                                      df_census_2014['B15003_019E'] + df_census_2014['B15003_020E'])\n",
        "    df_census_2014['percent_bachelors_or_higher_2014'] = (total_bachelors_or_higher_2014 / df_census_2014['B15003_001E']) * 100\n",
        "\n",
        "\n",
        "    holdout = holdout.merge(df_census_2014[['zipcode', 'avg_household_size_2014', 'percent_married_2014',\n",
        "                                                'housing_units_2014', 'percent_owner_occupied_2014',\n",
        "                                                'percent_renter_occupied_2014', 'unemployment_rate_2014',\n",
        "                                                'percent_hs_grad_or_higher_2014', 'percent_bachelors_or_higher_2014']],\n",
        "                                  on='zipcode', how='left')\n",
        "\n",
        "    print(\"\\n2014 Census data merged with holdout. Head:\")\n",
        "    print(holdout.head())\n",
        "\n",
        "else:\n",
        "    print(\"Error fetching 2014 Census data:\", response_2014.status_code)\n",
        "    print(\"Response content:\", response_2014.text)"
      ],
      "metadata": {
        "id": "lMo9GtsOKSyV",
        "colab": {
          "base_uri": "https://localhost:8080/"
        },
        "outputId": "4ace0d8a-8fca-4bda-d808-f5bb0ed6ce54"
      },
      "execution_count": null,
      "outputs": [
        {
          "output_type": "stream",
          "name": "stdout",
          "text": [
            "\n",
            "2015 Census data merged with holdout. Head:\n",
            "           id       date  bedrooms  bathrooms  sqft_living  sqft_lot  floors  \\\n",
            "0  2591820310 2014-10-06         4       2.25         2070      8893     2.0   \n",
            "1  7974200820 2014-08-21         5       3.00         2900      6730     1.0   \n",
            "2  7701450110 2014-08-15         4       2.50         3770     10893     2.0   \n",
            "3  9522300010 2015-03-31         3       3.50         4560     14608     2.0   \n",
            "4  9510861140 2014-07-14         3       2.50         2550      5376     2.0   \n",
            "\n",
            "   waterfront  view  condition  ...  age_at_sale  median_income  \\\n",
            "0           0     0          4  ...           28         106611   \n",
            "1           0     0          5  ...           37         141013   \n",
            "2           0     2          3  ...           17         185991   \n",
            "3           0     2          3  ...           25         119806   \n",
            "4           0     0          3  ...           10         158457   \n",
            "\n",
            "   avg_household_size_2015  percent_married_2015  housing_units_2015  \\\n",
            "0                     2.78             15.935921               16692   \n",
            "1                     2.36             20.038971               22085   \n",
            "2                     2.82             14.267361               13727   \n",
            "3                     2.43             16.053339               18001   \n",
            "4                     2.49             16.679759               26354   \n",
            "\n",
            "  percent_owner_occupied_2015  percent_renter_occupied_2015  \\\n",
            "0                   73.019568                     26.980432   \n",
            "1                   62.569382                     37.430618   \n",
            "2                   77.464362                     22.535638   \n",
            "3                   61.237125                     38.762875   \n",
            "4                   53.587281                     46.412719   \n",
            "\n",
            "   unemployment_rate_2015  percent_hs_grad_or_higher_2015  \\\n",
            "0                5.354312                       97.636695   \n",
            "1                5.079860                       99.489587   \n",
            "2                6.640385                      100.150127   \n",
            "3                6.750954                       99.645367   \n",
            "4                5.135891                       99.320813   \n",
            "\n",
            "   percent_bachelors_or_higher_2015  \n",
            "0                         42.851570  \n",
            "1                         21.213527  \n",
            "2                         27.042113  \n",
            "3                         34.178162  \n",
            "4                         22.761874  \n",
            "\n",
            "[5 rows x 39 columns]\n",
            "\n",
            "2014 Census data merged with holdout. Head:\n",
            "           id       date  bedrooms  bathrooms  sqft_living  sqft_lot  floors  \\\n",
            "0  2591820310 2014-10-06         4       2.25         2070      8893     2.0   \n",
            "1  7974200820 2014-08-21         5       3.00         2900      6730     1.0   \n",
            "2  7701450110 2014-08-15         4       2.50         3770     10893     2.0   \n",
            "3  9522300010 2015-03-31         3       3.50         4560     14608     2.0   \n",
            "4  9510861140 2014-07-14         3       2.50         2550      5376     2.0   \n",
            "\n",
            "   waterfront  view  condition  ...  percent_hs_grad_or_higher_2015  \\\n",
            "0           0     0          4  ...                       97.636695   \n",
            "1           0     0          5  ...                       99.489587   \n",
            "2           0     2          3  ...                      100.150127   \n",
            "3           0     2          3  ...                       99.645367   \n",
            "4           0     0          3  ...                       99.320813   \n",
            "\n",
            "   percent_bachelors_or_higher_2015  avg_household_size_2014  \\\n",
            "0                         42.851570                     2.74   \n",
            "1                         21.213527                     2.32   \n",
            "2                         27.042113                     2.81   \n",
            "3                         34.178162                     2.44   \n",
            "4                         22.761874                     2.43   \n",
            "\n",
            "   percent_married_2014  housing_units_2014 percent_owner_occupied_2014  \\\n",
            "0             16.106226               16367                   72.248681   \n",
            "1             19.346653               21778                   62.752489   \n",
            "2             13.709650               13558                   77.957564   \n",
            "3             17.057790               18171                   60.109001   \n",
            "4             16.793909               26472                   53.103282   \n",
            "\n",
            "   percent_renter_occupied_2014  unemployment_rate_2014  \\\n",
            "0                     27.751319                6.590115   \n",
            "1                     37.247511                5.230428   \n",
            "2                     22.042436                7.314771   \n",
            "3                     39.890999                7.793342   \n",
            "4                     46.896718                5.753945   \n",
            "\n",
            "   percent_hs_grad_or_higher_2014  percent_bachelors_or_higher_2014  \n",
            "0                       97.519189                         44.010417  \n",
            "1                       99.630490                         21.893458  \n",
            "2                      100.438545                         26.786199  \n",
            "3                       99.855368                         35.227796  \n",
            "4                       99.181216                         25.271582  \n",
            "\n",
            "[5 rows x 47 columns]\n"
          ]
        }
      ]
    },
    {
      "cell_type": "code",
      "source": [
        "for col in ['sqft_living', 'sqft_lot']:\n",
        "    holdout[col] = holdout[col].clip(upper=holdout[col].quantile(0.99))"
      ],
      "metadata": {
        "id": "clGZ25foKX-D",
        "colab": {
          "base_uri": "https://localhost:8080/"
        },
        "outputId": "afdccca2-f74d-4439-a8fb-6395df6017f1"
      },
      "execution_count": null,
      "outputs": [
        {
          "output_type": "stream",
          "name": "stderr",
          "text": [
            "<ipython-input-134-1418a83364a5>:2: FutureWarning: Downcasting behavior in Series and DataFrame methods 'where', 'mask', and 'clip' is deprecated. In a future version this will not infer object dtypes or cast all-round floats to integers. Instead call result.infer_objects(copy=False) for object inference, or cast round floats explicitly. To opt-in to the future behavior, set `pd.set_option('future.no_silent_downcasting', True)`\n",
            "  holdout[col] = holdout[col].clip(upper=holdout[col].quantile(0.99))\n"
          ]
        }
      ]
    },
    {
      "cell_type": "code",
      "source": [
        "cols_to_drop = [\n",
        "    'id', 'date', 'yr_built', 'yr_renovated', 'sqft_above', # Defines a list of columns to be removed from the feature set.\n",
        "]\n",
        "\n",
        "holdout_X = holdout.drop(columns=cols_to_drop)\n",
        "\n",
        "# Define categorical features\n",
        "cat_features = ['zipcode', 'view', 'condition', 'grade', 'waterfront']\n",
        "\n",
        "# Identify numerical features automatically (excluding categoricals)\n",
        "num_features = X.select_dtypes(include=['int64', 'float64']).columns.tolist() # Automatically selects all columns with integer or float data types from the original 'X' (training features).\n",
        "num_features = [col for col in num_features if col not in cat_features] # Filters the automatically identified numerical features to exclude those already defined as categorical.\n",
        "\n",
        "print(\"Numerical Features:\", num_features)\n",
        "print(\"Categorical Features:\", cat_features)"
      ],
      "metadata": {
        "id": "bxljJvHxmEPU",
        "colab": {
          "base_uri": "https://localhost:8080/"
        },
        "outputId": "71130e21-9a59-4b91-99ed-63b38ebb18c2"
      },
      "execution_count": null,
      "outputs": [
        {
          "output_type": "stream",
          "name": "stdout",
          "text": [
            "Numerical Features: ['bedrooms', 'bathrooms', 'sqft_living', 'sqft_lot', 'floors', 'sqft_basement', 'lat', 'long', 'sqft_living15', 'sqft_lot15', 'renovated', 'low_grade', 'high_grade', 'sqft_living_x_grade', 'waterfront_x_sqft_living', 'has_basement', 'age_at_sale', 'median_income', 'avg_household_size_2015', 'percent_married_2015', 'housing_units_2015', 'percent_owner_occupied_2015', 'percent_renter_occupied_2015', 'unemployment_rate_2015', 'percent_hs_grad_or_higher_2015', 'percent_bachelors_or_higher_2015', 'avg_household_size_2014', 'percent_married_2014', 'housing_units_2014', 'percent_owner_occupied_2014', 'percent_renter_occupied_2014', 'unemployment_rate_2014', 'percent_hs_grad_or_higher_2014', 'percent_bachelors_or_higher_2014']\n",
            "Categorical Features: ['zipcode', 'view', 'condition', 'grade', 'waterfront']\n"
          ]
        }
      ]
    },
    {
      "cell_type": "code",
      "source": [
        "y_pred_holdout = best_pipeline.predict(holdout_X)\n",
        "\n",
        "print(\"\\nData split into training and testing sets.\")\n",
        "print(f\"X_train shape: {X_train.shape}, y_train shape: {y_train.shape}\")\n",
        "print(f\"X_test shape: {X_test.shape}, y_test shape: {y_test.shape}\")"
      ],
      "metadata": {
        "id": "Zwj-aMPjmOHK",
        "colab": {
          "base_uri": "https://localhost:8080/"
        },
        "outputId": "fafbd37e-405b-4922-c2ed-71e1ece07e20"
      },
      "execution_count": null,
      "outputs": [
        {
          "output_type": "stream",
          "name": "stdout",
          "text": [
            "\n",
            "Data split into training and testing sets.\n",
            "X_train shape: (16000, 42), y_train shape: (16000,)\n",
            "X_test shape: (4000, 42), y_test shape: (4000,)\n"
          ]
        }
      ]
    },
    {
      "cell_type": "code",
      "source": [
        "predictions_df = pd.DataFrame({'price': y_pred_holdout})\n",
        "predictions_df.head()"
      ],
      "metadata": {
        "id": "mTnk6BKnmRY4",
        "colab": {
          "base_uri": "https://localhost:8080/",
          "height": 206
        },
        "outputId": "3f860e87-2f03-44e6-9675-22ea9ca532d5"
      },
      "execution_count": null,
      "outputs": [
        {
          "output_type": "execute_result",
          "data": {
            "text/plain": [
              "          price\n",
              "0  399851.34375\n",
              "1  843391.75000\n",
              "2  975810.81250\n",
              "3  986245.31250\n",
              "4  638839.81250"
            ],
            "text/html": [
              "\n",
              "  <div id=\"df-3d9fd312-e32c-42ae-b185-337068d3849e\" class=\"colab-df-container\">\n",
              "    <div>\n",
              "<style scoped>\n",
              "    .dataframe tbody tr th:only-of-type {\n",
              "        vertical-align: middle;\n",
              "    }\n",
              "\n",
              "    .dataframe tbody tr th {\n",
              "        vertical-align: top;\n",
              "    }\n",
              "\n",
              "    .dataframe thead th {\n",
              "        text-align: right;\n",
              "    }\n",
              "</style>\n",
              "<table border=\"1\" class=\"dataframe\">\n",
              "  <thead>\n",
              "    <tr style=\"text-align: right;\">\n",
              "      <th></th>\n",
              "      <th>price</th>\n",
              "    </tr>\n",
              "  </thead>\n",
              "  <tbody>\n",
              "    <tr>\n",
              "      <th>0</th>\n",
              "      <td>399851.34375</td>\n",
              "    </tr>\n",
              "    <tr>\n",
              "      <th>1</th>\n",
              "      <td>843391.75000</td>\n",
              "    </tr>\n",
              "    <tr>\n",
              "      <th>2</th>\n",
              "      <td>975810.81250</td>\n",
              "    </tr>\n",
              "    <tr>\n",
              "      <th>3</th>\n",
              "      <td>986245.31250</td>\n",
              "    </tr>\n",
              "    <tr>\n",
              "      <th>4</th>\n",
              "      <td>638839.81250</td>\n",
              "    </tr>\n",
              "  </tbody>\n",
              "</table>\n",
              "</div>\n",
              "    <div class=\"colab-df-buttons\">\n",
              "\n",
              "  <div class=\"colab-df-container\">\n",
              "    <button class=\"colab-df-convert\" onclick=\"convertToInteractive('df-3d9fd312-e32c-42ae-b185-337068d3849e')\"\n",
              "            title=\"Convert this dataframe to an interactive table.\"\n",
              "            style=\"display:none;\">\n",
              "\n",
              "  <svg xmlns=\"http://www.w3.org/2000/svg\" height=\"24px\" viewBox=\"0 -960 960 960\">\n",
              "    <path d=\"M120-120v-720h720v720H120Zm60-500h600v-160H180v160Zm220 220h160v-160H400v160Zm0 220h160v-160H400v160ZM180-400h160v-160H180v160Zm440 0h160v-160H620v160ZM180-180h160v-160H180v160Zm440 0h160v-160H620v160Z\"/>\n",
              "  </svg>\n",
              "    </button>\n",
              "\n",
              "  <style>\n",
              "    .colab-df-container {\n",
              "      display:flex;\n",
              "      gap: 12px;\n",
              "    }\n",
              "\n",
              "    .colab-df-convert {\n",
              "      background-color: #E8F0FE;\n",
              "      border: none;\n",
              "      border-radius: 50%;\n",
              "      cursor: pointer;\n",
              "      display: none;\n",
              "      fill: #1967D2;\n",
              "      height: 32px;\n",
              "      padding: 0 0 0 0;\n",
              "      width: 32px;\n",
              "    }\n",
              "\n",
              "    .colab-df-convert:hover {\n",
              "      background-color: #E2EBFA;\n",
              "      box-shadow: 0px 1px 2px rgba(60, 64, 67, 0.3), 0px 1px 3px 1px rgba(60, 64, 67, 0.15);\n",
              "      fill: #174EA6;\n",
              "    }\n",
              "\n",
              "    .colab-df-buttons div {\n",
              "      margin-bottom: 4px;\n",
              "    }\n",
              "\n",
              "    [theme=dark] .colab-df-convert {\n",
              "      background-color: #3B4455;\n",
              "      fill: #D2E3FC;\n",
              "    }\n",
              "\n",
              "    [theme=dark] .colab-df-convert:hover {\n",
              "      background-color: #434B5C;\n",
              "      box-shadow: 0px 1px 3px 1px rgba(0, 0, 0, 0.15);\n",
              "      filter: drop-shadow(0px 1px 2px rgba(0, 0, 0, 0.3));\n",
              "      fill: #FFFFFF;\n",
              "    }\n",
              "  </style>\n",
              "\n",
              "    <script>\n",
              "      const buttonEl =\n",
              "        document.querySelector('#df-3d9fd312-e32c-42ae-b185-337068d3849e button.colab-df-convert');\n",
              "      buttonEl.style.display =\n",
              "        google.colab.kernel.accessAllowed ? 'block' : 'none';\n",
              "\n",
              "      async function convertToInteractive(key) {\n",
              "        const element = document.querySelector('#df-3d9fd312-e32c-42ae-b185-337068d3849e');\n",
              "        const dataTable =\n",
              "          await google.colab.kernel.invokeFunction('convertToInteractive',\n",
              "                                                    [key], {});\n",
              "        if (!dataTable) return;\n",
              "\n",
              "        const docLinkHtml = 'Like what you see? Visit the ' +\n",
              "          '<a target=\"_blank\" href=https://colab.research.google.com/notebooks/data_table.ipynb>data table notebook</a>'\n",
              "          + ' to learn more about interactive tables.';\n",
              "        element.innerHTML = '';\n",
              "        dataTable['output_type'] = 'display_data';\n",
              "        await google.colab.output.renderOutput(dataTable, element);\n",
              "        const docLink = document.createElement('div');\n",
              "        docLink.innerHTML = docLinkHtml;\n",
              "        element.appendChild(docLink);\n",
              "      }\n",
              "    </script>\n",
              "  </div>\n",
              "\n",
              "\n",
              "    <div id=\"df-4fb20d0d-1f63-4ccc-84f9-f748fee8c545\">\n",
              "      <button class=\"colab-df-quickchart\" onclick=\"quickchart('df-4fb20d0d-1f63-4ccc-84f9-f748fee8c545')\"\n",
              "                title=\"Suggest charts\"\n",
              "                style=\"display:none;\">\n",
              "\n",
              "<svg xmlns=\"http://www.w3.org/2000/svg\" height=\"24px\"viewBox=\"0 0 24 24\"\n",
              "     width=\"24px\">\n",
              "    <g>\n",
              "        <path d=\"M19 3H5c-1.1 0-2 .9-2 2v14c0 1.1.9 2 2 2h14c1.1 0 2-.9 2-2V5c0-1.1-.9-2-2-2zM9 17H7v-7h2v7zm4 0h-2V7h2v10zm4 0h-2v-4h2v4z\"/>\n",
              "    </g>\n",
              "</svg>\n",
              "      </button>\n",
              "\n",
              "<style>\n",
              "  .colab-df-quickchart {\n",
              "      --bg-color: #E8F0FE;\n",
              "      --fill-color: #1967D2;\n",
              "      --hover-bg-color: #E2EBFA;\n",
              "      --hover-fill-color: #174EA6;\n",
              "      --disabled-fill-color: #AAA;\n",
              "      --disabled-bg-color: #DDD;\n",
              "  }\n",
              "\n",
              "  [theme=dark] .colab-df-quickchart {\n",
              "      --bg-color: #3B4455;\n",
              "      --fill-color: #D2E3FC;\n",
              "      --hover-bg-color: #434B5C;\n",
              "      --hover-fill-color: #FFFFFF;\n",
              "      --disabled-bg-color: #3B4455;\n",
              "      --disabled-fill-color: #666;\n",
              "  }\n",
              "\n",
              "  .colab-df-quickchart {\n",
              "    background-color: var(--bg-color);\n",
              "    border: none;\n",
              "    border-radius: 50%;\n",
              "    cursor: pointer;\n",
              "    display: none;\n",
              "    fill: var(--fill-color);\n",
              "    height: 32px;\n",
              "    padding: 0;\n",
              "    width: 32px;\n",
              "  }\n",
              "\n",
              "  .colab-df-quickchart:hover {\n",
              "    background-color: var(--hover-bg-color);\n",
              "    box-shadow: 0 1px 2px rgba(60, 64, 67, 0.3), 0 1px 3px 1px rgba(60, 64, 67, 0.15);\n",
              "    fill: var(--button-hover-fill-color);\n",
              "  }\n",
              "\n",
              "  .colab-df-quickchart-complete:disabled,\n",
              "  .colab-df-quickchart-complete:disabled:hover {\n",
              "    background-color: var(--disabled-bg-color);\n",
              "    fill: var(--disabled-fill-color);\n",
              "    box-shadow: none;\n",
              "  }\n",
              "\n",
              "  .colab-df-spinner {\n",
              "    border: 2px solid var(--fill-color);\n",
              "    border-color: transparent;\n",
              "    border-bottom-color: var(--fill-color);\n",
              "    animation:\n",
              "      spin 1s steps(1) infinite;\n",
              "  }\n",
              "\n",
              "  @keyframes spin {\n",
              "    0% {\n",
              "      border-color: transparent;\n",
              "      border-bottom-color: var(--fill-color);\n",
              "      border-left-color: var(--fill-color);\n",
              "    }\n",
              "    20% {\n",
              "      border-color: transparent;\n",
              "      border-left-color: var(--fill-color);\n",
              "      border-top-color: var(--fill-color);\n",
              "    }\n",
              "    30% {\n",
              "      border-color: transparent;\n",
              "      border-left-color: var(--fill-color);\n",
              "      border-top-color: var(--fill-color);\n",
              "      border-right-color: var(--fill-color);\n",
              "    }\n",
              "    40% {\n",
              "      border-color: transparent;\n",
              "      border-right-color: var(--fill-color);\n",
              "      border-top-color: var(--fill-color);\n",
              "    }\n",
              "    60% {\n",
              "      border-color: transparent;\n",
              "      border-right-color: var(--fill-color);\n",
              "    }\n",
              "    80% {\n",
              "      border-color: transparent;\n",
              "      border-right-color: var(--fill-color);\n",
              "      border-bottom-color: var(--fill-color);\n",
              "    }\n",
              "    90% {\n",
              "      border-color: transparent;\n",
              "      border-bottom-color: var(--fill-color);\n",
              "    }\n",
              "  }\n",
              "</style>\n",
              "\n",
              "      <script>\n",
              "        async function quickchart(key) {\n",
              "          const quickchartButtonEl =\n",
              "            document.querySelector('#' + key + ' button');\n",
              "          quickchartButtonEl.disabled = true;  // To prevent multiple clicks.\n",
              "          quickchartButtonEl.classList.add('colab-df-spinner');\n",
              "          try {\n",
              "            const charts = await google.colab.kernel.invokeFunction(\n",
              "                'suggestCharts', [key], {});\n",
              "          } catch (error) {\n",
              "            console.error('Error during call to suggestCharts:', error);\n",
              "          }\n",
              "          quickchartButtonEl.classList.remove('colab-df-spinner');\n",
              "          quickchartButtonEl.classList.add('colab-df-quickchart-complete');\n",
              "        }\n",
              "        (() => {\n",
              "          let quickchartButtonEl =\n",
              "            document.querySelector('#df-4fb20d0d-1f63-4ccc-84f9-f748fee8c545 button');\n",
              "          quickchartButtonEl.style.display =\n",
              "            google.colab.kernel.accessAllowed ? 'block' : 'none';\n",
              "        })();\n",
              "      </script>\n",
              "    </div>\n",
              "\n",
              "    </div>\n",
              "  </div>\n"
            ],
            "application/vnd.google.colaboratory.intrinsic+json": {
              "type": "dataframe",
              "variable_name": "predictions_df",
              "summary": "{\n  \"name\": \"predictions_df\",\n  \"rows\": 1613,\n  \"fields\": [\n    {\n      \"column\": \"price\",\n      \"properties\": {\n        \"dtype\": \"float32\",\n        \"num_unique_values\": 1613,\n        \"samples\": [\n          683820.375,\n          282508.59375,\n          458562.5625\n        ],\n        \"semantic_type\": \"\",\n        \"description\": \"\"\n      }\n    }\n  ]\n}"
            }
          },
          "metadata": {},
          "execution_count": 137
        }
      ]
    },
    {
      "cell_type": "code",
      "source": [
        "predictions_df.to_csv('predicted_prices.csv', index=False)"
      ],
      "metadata": {
        "id": "ktpLMOwFo8Uj"
      },
      "execution_count": null,
      "outputs": []
    }
  ],
  "metadata": {
    "colab": {
      "provenance": [],
      "authorship_tag": "ABX9TyMdRky6FYk4qsufgsEvNJME",
      "include_colab_link": true
    },
    "kernelspec": {
      "display_name": "Python 3",
      "name": "python3"
    },
    "language_info": {
      "name": "python"
    }
  },
  "nbformat": 4,
  "nbformat_minor": 0
}